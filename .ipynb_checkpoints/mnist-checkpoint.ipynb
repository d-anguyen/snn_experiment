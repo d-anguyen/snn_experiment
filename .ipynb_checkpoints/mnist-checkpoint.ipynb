{
 "cells": [
  {
   "cell_type": "markdown",
   "id": "1b93ff39",
   "metadata": {},
   "source": [
    "# 1. Set up environments and datasets"
   ]
  },
  {
   "cell_type": "code",
   "execution_count": 1,
   "id": "77b679dd",
   "metadata": {},
   "outputs": [],
   "source": [
    "import snntorch as snn\n",
    "import os\n",
    "from snntorch import spikeplot as splt\n",
    "from snntorch import spikegen\n",
    "\n",
    "import torch\n",
    "import torch.nn as nn\n",
    "import numpy as np\n",
    "\n",
    "from torch.utils.data.dataset import Dataset\n",
    "from torch.utils.data import DataLoader\n",
    "from torchvision import datasets, transforms\n",
    "\n",
    "\n",
    "import matplotlib.pyplot as plt\n",
    "\n",
    "import models\n",
    "import train\n",
    "dtype = torch.float\n",
    "device = torch.device(\"cuda\") if torch.cuda.is_available() else torch.device(\"cpu\")"
   ]
  },
  {
   "cell_type": "code",
   "execution_count": 2,
   "id": "6d226eed",
   "metadata": {},
   "outputs": [],
   "source": [
    "# Prepare MNIST datasets\n",
    "data_path='/tmp/data/mnist'\n",
    "batch_size = 256\n",
    "transform = transforms.Compose([\n",
    "            transforms.Resize((28, 28)),\n",
    "            transforms.Grayscale(),\n",
    "            transforms.ToTensor(),\n",
    "            transforms.Normalize((0,), (1,))])\n",
    "\n",
    "mnist_train = datasets.MNIST(data_path, train=True, download=True, transform=transform)\n",
    "mnist_test = datasets.MNIST(data_path, train=False, download=True, transform=transform)\n",
    "\n",
    "train_loader = DataLoader(mnist_train, batch_size=batch_size, shuffle=True)\n",
    "test_loader = DataLoader(mnist_test, batch_size=batch_size, shuffle=True)\n"
   ]
  },
  {
   "cell_type": "markdown",
   "id": "dad364f5",
   "metadata": {},
   "source": [
    "# 2. Design a SNN architecture"
   ]
  },
  {
   "cell_type": "code",
   "execution_count": 3,
   "id": "bf7f4356",
   "metadata": {},
   "outputs": [],
   "source": [
    "# Define the hyperparameters\n",
    "num_steps = 2\n",
    "n_first_hidden = 30\n",
    "num_binary_layers = 3\n",
    "n_hidden = 20\n",
    "\n",
    "seed = np.random.randint(100) # later set a seed to fix the initialization\n",
    "# seed = 30\n",
    "# torch.manual_seed(seed)\n",
    "# torch.cuda.manual_seed(seed)\n",
    "\n",
    "# Create a folder to save results\n",
    "save_path = './mnist_results/'\n",
    "\n",
    "name = '784-' + str(n_first_hidden)\n",
    "for i in range(num_binary_layers):\n",
    "    name += '-' +str(n_hidden)\n",
    "name += '-10/'\n",
    "save_path+= name\n",
    "os.makedirs(save_path, exist_ok=True)\n"
   ]
  },
  {
   "cell_type": "code",
   "execution_count": 4,
   "id": "fb36da4f",
   "metadata": {},
   "outputs": [
    {
     "name": "stdout",
     "output_type": "stream",
     "text": [
      "SNN(\n",
      "  (net): Sequential(\n",
      "    (0): Linear(in_features=784, out_features=30, bias=True)\n",
      "    (1): Leaky()\n",
      "    (2): Linear(in_features=30, out_features=20, bias=True)\n",
      "    (3): Leaky()\n",
      "    (4): Linear(in_features=20, out_features=10, bias=True)\n",
      "    (5): Leaky()\n",
      "  )\n",
      ")\n"
     ]
    }
   ],
   "source": [
    "net = models.SNN(num_steps=2, n_first_hidden=n_first_hidden, num_binary_layers = num_binary_layers, n_hidden = 20).to(device)\n",
    "print(net)"
   ]
  },
  {
   "cell_type": "markdown",
   "id": "3a92bb7d",
   "metadata": {},
   "source": [
    "# 3. Train and save results"
   ]
  },
  {
   "cell_type": "code",
   "execution_count": 5,
   "id": "4ad354c7",
   "metadata": {
    "scrolled": true
   },
   "outputs": [
    {
     "name": "stderr",
     "output_type": "stream",
     "text": [
      "\r",
      "  0%|          | 0/10 [00:00<?, ?it/s]"
     ]
    },
    {
     "name": "stdout",
     "output_type": "stream",
     "text": [
      "---------- Training epoch 0 ------------\n",
      "  Iteration 0 --- Train Loss: 2.30 --- Minibatch accuracy: 6.25%\n",
      "\n",
      "  Iteration 50 --- Train Loss: 2.31 --- Minibatch accuracy: 8.20%\n",
      "\n",
      "  Iteration 100 --- Train Loss: 1.76 --- Minibatch accuracy: 63.28%\n",
      "\n",
      "  Iteration 150 --- Train Loss: 1.38 --- Minibatch accuracy: 69.53%\n",
      "\n",
      "  Iteration 200 --- Train Loss: 1.22 --- Minibatch accuracy: 73.83%\n",
      "\n",
      "####### Statistics over the whole train/test dataset at epoch 0 #######\n",
      "Train loss: 1.15\n",
      "Train accuracy: 78.98 %\n"
     ]
    },
    {
     "name": "stderr",
     "output_type": "stream",
     "text": [
      "\r",
      " 10%|█         | 1/10 [00:33<04:58, 33.13s/it]"
     ]
    },
    {
     "name": "stdout",
     "output_type": "stream",
     "text": [
      "Test loss: 1.14\n",
      "Test accuracy: 80.02 %\n",
      "---------- Training epoch 1 ------------\n",
      "  Iteration 0 --- Train Loss: 1.14 --- Minibatch accuracy: 80.08%\n",
      "\n",
      "  Iteration 50 --- Train Loss: 1.09 --- Minibatch accuracy: 84.77%\n",
      "\n",
      "  Iteration 100 --- Train Loss: 1.01 --- Minibatch accuracy: 86.72%\n",
      "\n",
      "  Iteration 150 --- Train Loss: 1.04 --- Minibatch accuracy: 85.94%\n",
      "\n",
      "  Iteration 200 --- Train Loss: 1.01 --- Minibatch accuracy: 87.50%\n",
      "\n"
     ]
    },
    {
     "name": "stderr",
     "output_type": "stream",
     "text": [
      "\r",
      " 20%|██        | 2/10 [00:50<03:12, 24.12s/it]"
     ]
    },
    {
     "name": "stdout",
     "output_type": "stream",
     "text": [
      "---------- Training epoch 2 ------------\n",
      "  Iteration 0 --- Train Loss: 1.00 --- Minibatch accuracy: 90.62%\n",
      "\n",
      "  Iteration 50 --- Train Loss: 1.02 --- Minibatch accuracy: 87.89%\n",
      "\n",
      "  Iteration 100 --- Train Loss: 1.00 --- Minibatch accuracy: 90.62%\n",
      "\n",
      "  Iteration 150 --- Train Loss: 0.99 --- Minibatch accuracy: 89.84%\n",
      "\n",
      "  Iteration 200 --- Train Loss: 0.99 --- Minibatch accuracy: 88.28%\n",
      "\n"
     ]
    },
    {
     "name": "stderr",
     "output_type": "stream",
     "text": [
      "\r",
      " 30%|███       | 3/10 [01:06<02:21, 20.22s/it]"
     ]
    },
    {
     "name": "stdout",
     "output_type": "stream",
     "text": [
      "---------- Training epoch 3 ------------\n",
      "  Iteration 0 --- Train Loss: 0.96 --- Minibatch accuracy: 91.80%\n",
      "\n",
      "  Iteration 50 --- Train Loss: 0.93 --- Minibatch accuracy: 90.62%\n",
      "\n",
      "  Iteration 100 --- Train Loss: 0.97 --- Minibatch accuracy: 91.02%\n",
      "\n",
      "  Iteration 150 --- Train Loss: 0.98 --- Minibatch accuracy: 88.28%\n",
      "\n",
      "  Iteration 200 --- Train Loss: 0.98 --- Minibatch accuracy: 89.06%\n",
      "\n"
     ]
    },
    {
     "name": "stderr",
     "output_type": "stream",
     "text": [
      "\r",
      " 40%|████      | 4/10 [01:22<01:50, 18.40s/it]"
     ]
    },
    {
     "name": "stdout",
     "output_type": "stream",
     "text": [
      "---------- Training epoch 4 ------------\n",
      "  Iteration 0 --- Train Loss: 0.91 --- Minibatch accuracy: 93.75%\n",
      "\n",
      "  Iteration 50 --- Train Loss: 0.96 --- Minibatch accuracy: 90.23%\n",
      "\n",
      "  Iteration 100 --- Train Loss: 0.92 --- Minibatch accuracy: 91.80%\n",
      "\n",
      "  Iteration 150 --- Train Loss: 0.91 --- Minibatch accuracy: 94.14%\n",
      "\n",
      "  Iteration 200 --- Train Loss: 0.95 --- Minibatch accuracy: 91.80%\n",
      "\n"
     ]
    },
    {
     "name": "stderr",
     "output_type": "stream",
     "text": [
      "\r",
      " 50%|█████     | 5/10 [01:37<01:27, 17.43s/it]"
     ]
    },
    {
     "name": "stdout",
     "output_type": "stream",
     "text": [
      "---------- Training epoch 5 ------------\n",
      "  Iteration 0 --- Train Loss: 0.94 --- Minibatch accuracy: 92.58%\n",
      "\n",
      "  Iteration 50 --- Train Loss: 0.94 --- Minibatch accuracy: 92.58%\n",
      "\n",
      "  Iteration 100 --- Train Loss: 0.90 --- Minibatch accuracy: 93.75%\n",
      "\n",
      "  Iteration 150 --- Train Loss: 0.92 --- Minibatch accuracy: 92.97%\n",
      "\n",
      "  Iteration 200 --- Train Loss: 0.90 --- Minibatch accuracy: 93.36%\n",
      "\n",
      "####### Statistics over the whole train/test dataset at epoch 5 #######\n",
      "Train loss: 0.92\n",
      "Train accuracy: 92.72 %\n"
     ]
    },
    {
     "name": "stderr",
     "output_type": "stream",
     "text": [
      "\r",
      " 60%|██████    | 6/10 [02:10<01:30, 22.71s/it]"
     ]
    },
    {
     "name": "stdout",
     "output_type": "stream",
     "text": [
      "Test loss: 0.93\n",
      "Test accuracy: 92.24 %\n",
      "---------- Training epoch 6 ------------\n",
      "  Iteration 0 --- Train Loss: 0.91 --- Minibatch accuracy: 92.58%\n",
      "\n",
      "  Iteration 50 --- Train Loss: 0.89 --- Minibatch accuracy: 94.92%\n",
      "\n",
      "  Iteration 100 --- Train Loss: 0.90 --- Minibatch accuracy: 93.75%\n",
      "\n",
      "  Iteration 150 --- Train Loss: 0.92 --- Minibatch accuracy: 93.36%\n",
      "\n",
      "  Iteration 200 --- Train Loss: 0.93 --- Minibatch accuracy: 91.80%\n",
      "\n"
     ]
    },
    {
     "name": "stderr",
     "output_type": "stream",
     "text": [
      "\r",
      " 70%|███████   | 7/10 [02:26<01:01, 20.50s/it]"
     ]
    },
    {
     "name": "stdout",
     "output_type": "stream",
     "text": [
      "---------- Training epoch 7 ------------\n",
      "  Iteration 0 --- Train Loss: 0.93 --- Minibatch accuracy: 91.80%\n",
      "\n",
      "  Iteration 50 --- Train Loss: 0.93 --- Minibatch accuracy: 92.58%\n",
      "\n",
      "  Iteration 100 --- Train Loss: 0.89 --- Minibatch accuracy: 93.75%\n",
      "\n",
      "  Iteration 150 --- Train Loss: 0.89 --- Minibatch accuracy: 93.75%\n",
      "\n",
      "  Iteration 200 --- Train Loss: 0.94 --- Minibatch accuracy: 91.80%\n",
      "\n"
     ]
    },
    {
     "name": "stderr",
     "output_type": "stream",
     "text": [
      "\r",
      " 80%|████████  | 8/10 [02:42<00:37, 18.94s/it]"
     ]
    },
    {
     "name": "stdout",
     "output_type": "stream",
     "text": [
      "---------- Training epoch 8 ------------\n",
      "  Iteration 0 --- Train Loss: 0.91 --- Minibatch accuracy: 91.80%\n",
      "\n",
      "  Iteration 50 --- Train Loss: 0.92 --- Minibatch accuracy: 92.58%\n",
      "\n",
      "  Iteration 100 --- Train Loss: 0.93 --- Minibatch accuracy: 92.58%\n",
      "\n",
      "  Iteration 150 --- Train Loss: 0.85 --- Minibatch accuracy: 97.27%\n",
      "\n",
      "  Iteration 200 --- Train Loss: 0.91 --- Minibatch accuracy: 92.97%\n",
      "\n"
     ]
    },
    {
     "name": "stderr",
     "output_type": "stream",
     "text": [
      "\r",
      " 90%|█████████ | 9/10 [02:58<00:17, 17.95s/it]"
     ]
    },
    {
     "name": "stdout",
     "output_type": "stream",
     "text": [
      "---------- Training epoch 9 ------------\n",
      "  Iteration 0 --- Train Loss: 0.93 --- Minibatch accuracy: 92.58%\n",
      "\n",
      "  Iteration 50 --- Train Loss: 0.89 --- Minibatch accuracy: 93.75%\n",
      "\n",
      "  Iteration 100 --- Train Loss: 0.88 --- Minibatch accuracy: 95.31%\n",
      "\n",
      "  Iteration 150 --- Train Loss: 0.91 --- Minibatch accuracy: 94.92%\n",
      "\n",
      "  Iteration 200 --- Train Loss: 0.89 --- Minibatch accuracy: 94.92%\n",
      "\n",
      "####### Statistics over the whole train/test dataset at epoch 9 #######\n",
      "Train loss: 0.90\n",
      "Train accuracy: 94.01 %\n"
     ]
    },
    {
     "name": "stderr",
     "output_type": "stream",
     "text": [
      "100%|██████████| 10/10 [03:30<00:00, 21.05s/it]"
     ]
    },
    {
     "name": "stdout",
     "output_type": "stream",
     "text": [
      "Test loss: 0.91\n",
      "Test accuracy: 92.96 %\n"
     ]
    },
    {
     "name": "stderr",
     "output_type": "stream",
     "text": [
      "\n"
     ]
    },
    {
     "data": {
      "image/png": "[encoded data removed]",
      "text/plain": [
       "<Figure size 1000x500 with 1 Axes>"
      ]
     },
     "metadata": {},
     "output_type": "display_data"
    }
   ],
   "source": [
    "train_loss_hist, test_loss_hist = train.train_snn(net, train_loader, test_loader, num_epochs = 10, output='spike')\n",
    "train.plot_learning_curve(train_loss_hist, test_loss_hist)"
   ]
  },
  {
   "cell_type": "code",
   "execution_count": 6,
   "id": "76bbfdd4",
   "metadata": {},
   "outputs": [],
   "source": [
    "torch.save(net.state_dict(), save_path+'params.pth')\n"
   ]
  },
  {
   "cell_type": "code",
   "execution_count": null,
   "id": "82bb835b",
   "metadata": {},
   "outputs": [],
   "source": [
    "def print_and_save(text_str, file_stream):\n",
    "    print(text_str)\n",
    "    if file_stream is not None:\n",
    "        print(text_str, file=file_stream)"
   ]
  },
  {
   "cell_type": "markdown",
   "id": "f0fd74de",
   "metadata": {},
   "source": [
    "# 4. Load net"
   ]
  },
  {
   "cell_type": "code",
   "execution_count": null,
   "id": "a8fd2edd",
   "metadata": {},
   "outputs": [],
   "source": []
  }
 ],
 "metadata": {
  "kernelspec": {
   "display_name": "Python 3 (ipykernel)",
   "language": "python",
   "name": "python3"
  },
  "language_info": {
   "codemirror_mode": {
    "name": "ipython",
    "version": 3
   },
   "file_extension": ".py",
   "mimetype": "text/x-python",
   "name": "python",
   "nbconvert_exporter": "python",
   "pygments_lexer": "ipython3",
   "version": "3.11.5"
  }
 },
 "nbformat": 4,
 "nbformat_minor": 5
}
