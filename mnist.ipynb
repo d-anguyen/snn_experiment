{
 "cells": [
  {
   "cell_type": "code",
   "execution_count": 1,
   "id": "d5dd1681",
   "metadata": {},
   "outputs": [],
   "source": [
    "import torch\n",
    "import numpy as np\n",
    "\n",
    "from helper import *\n",
    "from models import *\n",
    "\n",
    "\n",
    "dtype = torch.float\n",
    "device = torch.device(\"cuda\") if torch.cuda.is_available() else torch.device(\"cpu\")\n",
    "\n",
    "\n",
    "# Prepare MNIST datasets\n",
    "batch_size = 256\n",
    "dataset = 'mnist' # choose 'mnist', 'cifar10' \n",
    "train_loader, test_loader, chw_in, n_out = load_dataset(dataset, batch_size=batch_size)\n",
    "seed = np.random.randint(100) # later set a seed to fix the initialization\n",
    "# seed = 30\n",
    "torch.manual_seed(seed)\n",
    "torch.cuda.manual_seed(seed)\n",
    "pretrained = False\n",
    "\n",
    "\n",
    "# Define the network dimensions\n",
    "num_steps = 8\n",
    "n_first_hidden = 100\n",
    "num_binary_layers = 4\n",
    "n_hidden = 100\n",
    "num_hidden_layers = num_binary_layers-1\n",
    "\n",
    "list_n_first_hidden = [20*i for i in range(1,11)]\n",
    "list_num_binary_layers = [i for i in range(2,8)]\n",
    "list_n_hidden = [20*i for i in range(1,11)]\n",
    "list_num_steps = [2,4,6,8,12,16,24,32,48,64]\n",
    "list_num_hidden_layers = [i for i in range(1,7)]\n",
    "\n",
    "\n",
    "# Training hyperparameters\n",
    "num_epochs = 50\n",
    "lr = 1e-3\n",
    "weight_decay= 5e-4\n",
    "lr_step = num_epochs/2\n",
    "lr_gamma = 0.1\n",
    "\n",
    "\n",
    "# Display hyperparameters\n",
    "save_path = './example_results/'\n",
    "os.makedirs(save_path, exist_ok=True)\n",
    "display_iter = int((60000/batch_size) / 4) #print batch statistics 4 times per epoch\n",
    "eval_epoch = int(num_epochs / 10) #evaluate and save params after every 10-th epoch\n",
    "save_epoch = True\n",
    "\n",
    "\n",
    "\n",
    "\n",
    "\n",
    "\n",
    "\n"
   ]
  },
  {
   "cell_type": "code",
   "execution_count": 2,
   "id": "2561f315",
   "metadata": {},
   "outputs": [
    {
     "name": "stdout",
     "output_type": "stream",
     "text": [
      "(1, 28, 28)\n"
     ]
    }
   ],
   "source": [
    "print(chw_in)"
   ]
  },
  {
   "cell_type": "code",
   "execution_count": 3,
   "id": "77ee3114",
   "metadata": {},
   "outputs": [],
   "source": [
    "net = CSNN(num_steps=2, chw_in=chw_in, n_out=n_out, C_first_hidden=2, num_binary_layers=2, C_hidden=1)"
   ]
  },
  {
   "cell_type": "code",
   "execution_count": 12,
   "id": "23737aff",
   "metadata": {},
   "outputs": [],
   "source": [
    "x = torch.randn(1,1,28,28)"
   ]
  },
  {
   "cell_type": "code",
   "execution_count": 13,
   "id": "248d153d",
   "metadata": {},
   "outputs": [
    {
     "data": {
      "text/plain": [
       "(tensor([[0., 0., 0., 0., 0., 0., 0., 0., 0., 0.]], grad_fn=<MulBackward0>),\n",
       " tensor([[-0.0301, -0.0128, -0.0300,  0.0302, -0.0306, -0.0053, -0.0272,  0.0295,\n",
       "           0.0256,  0.0230]], grad_fn=<SubBackward0>))"
      ]
     },
     "execution_count": 13,
     "metadata": {},
     "output_type": "execute_result"
    }
   ],
   "source": [
    "net(x)"
   ]
  },
  {
   "cell_type": "code",
   "execution_count": null,
   "id": "35d03724",
   "metadata": {},
   "outputs": [],
   "source": [
    "# Display parameters\n",
    "experiment_snn(train_loader, test_loader, n_in, n_out, num_steps, n_first_hidden, num_binary_layers, n_hidden, \n",
    "            save_path=save_path, pretrained=False, num_epochs=num_epochs, lr=lr, weight_decay=0, lr_step=lr_step, \n",
    "            lr_gamma=lr_gamma, output='spike', display_iter =display_iter, eval_epoch=eval_epoch, save_epoch=False)\n",
    "\n",
    "# experiment_ann(train_loader, test_loader, n_in, n_out, n_first_hidden, num_hidden_layers, \n",
    "#             n_hidden, save_path=save_path, pretrained=False, num_epochs=num_epochs, lr=lr, weight_decay=weight_decay, \n",
    "#             lr_step=lr_step, lr_gamma=lr_gamma, display_iter =display_iter, eval_epoch=eval_epoch, save_epoch=False)\n"
   ]
  },
  {
   "cell_type": "code",
   "execution_count": null,
   "id": "fb36da4f",
   "metadata": {},
   "outputs": [],
   "source": [
    "seed = 30\n",
    "torch.manual_seed(seed)\n",
    "torch.cuda.manual_seed(seed)\n",
    "net = SNN(num_steps=num_steps, n_first_hidden=n_first_hidden, num_binary_layers = num_binary_layers, n_hidden = n_hidden).to(device)\n",
    "for i in net.parameters():\n",
    "    print(i)"
   ]
  },
  {
   "cell_type": "code",
   "execution_count": null,
   "id": "cf0d06a4",
   "metadata": {},
   "outputs": [],
   "source": [
    "seed = 30\n",
    "torch.manual_seed(seed)\n",
    "torch.cuda.manual_seed(seed)\n",
    "\n",
    "net2 = SNN(num_steps=num_steps, n_first_hidden=n_first_hidden, num_binary_layers = num_binary_layers, n_hidden = n_hidden).to(device)\n",
    "\n",
    "for i in net2.parameters():\n",
    "    print(i)"
   ]
  },
  {
   "cell_type": "code",
   "execution_count": null,
   "id": "b6ce3fd7",
   "metadata": {},
   "outputs": [],
   "source": []
  }
 ],
 "metadata": {
  "kernelspec": {
   "display_name": "Python 3 (ipykernel)",
   "language": "python",
   "name": "python3"
  },
  "language_info": {
   "codemirror_mode": {
    "name": "ipython",
    "version": 3
   },
   "file_extension": ".py",
   "mimetype": "text/x-python",
   "name": "python",
   "nbconvert_exporter": "python",
   "pygments_lexer": "ipython3",
   "version": "3.11.5"
  }
 },
 "nbformat": 4,
 "nbformat_minor": 5
}
