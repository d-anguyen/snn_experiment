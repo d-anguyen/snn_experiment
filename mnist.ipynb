{
 "cells": [
  {
   "cell_type": "markdown",
   "id": "1b93ff39",
   "metadata": {},
   "source": [
    "# 1. Set up environments and datasets"
   ]
  },
  {
   "cell_type": "code",
   "execution_count": 2,
   "id": "77b679dd",
   "metadata": {},
   "outputs": [],
   "source": [
    "import snntorch as snn\n",
    "import os\n",
    "import time\n",
    "from snntorch import spikeplot as splt\n",
    "from snntorch import spikegen\n",
    "\n",
    "import torch\n",
    "import torch.nn as nn\n",
    "import numpy as np\n",
    "\n",
    "from torch.utils.data.dataset import Dataset\n",
    "from torch.utils.data import DataLoader\n",
    "from torchvision import datasets, transforms\n",
    "\n",
    "\n",
    "import matplotlib.pyplot as plt\n",
    "\n",
    "import models\n",
    "import train\n",
    "dtype = torch.float\n",
    "device = torch.device(\"cuda\") if torch.cuda.is_available() else torch.device(\"cpu\")"
   ]
  },
  {
   "cell_type": "code",
   "execution_count": 20,
   "id": "6d226eed",
   "metadata": {},
   "outputs": [],
   "source": [
    "# Prepare MNIST datasets\n",
    "data_path='/tmp/data/mnist'\n",
    "batch_size = 256\n",
    "transform = transforms.Compose([\n",
    "            transforms.Resize((28, 28)),\n",
    "            transforms.Grayscale(),\n",
    "            transforms.ToTensor(),\n",
    "            transforms.Normalize((0,), (1,))])\n",
    "\n",
    "mnist_train = datasets.MNIST(data_path, train=True, download=True, transform=transform)\n",
    "mnist_test = datasets.MNIST(data_path, train=False, download=True, transform=transform)\n",
    "\n",
    "train_loader = DataLoader(mnist_train, batch_size=batch_size, shuffle=False)\n",
    "test_loader = DataLoader(mnist_test, batch_size=batch_size, shuffle=True)\n"
   ]
  },
  {
   "cell_type": "code",
   "execution_count": 21,
   "id": "0694fcf5",
   "metadata": {},
   "outputs": [],
   "source": [
    "# Prepare MNIST datasets\n",
    "data_path='/tmp/data/mnist'\n",
    "batch_size = 256\n",
    "transform = transforms.Compose([\n",
    "            transforms.ToTensor(),\n",
    "            transforms.Normalize((0,), (1,))])\n",
    "\n",
    "mnist2_train = datasets.MNIST(data_path, train=True, download=True, transform=transform)\n",
    "mnist2_test = datasets.MNIST(data_path, train=False, download=True, transform=transform)\n",
    "\n",
    "train2_loader = DataLoader(mnist_train, batch_size=batch_size, shuffle=False)\n",
    "test2_loader = DataLoader(mnist_test, batch_size=batch_size, shuffle=True)\n"
   ]
  },
  {
   "cell_type": "code",
   "execution_count": 22,
   "id": "35d03724",
   "metadata": {},
   "outputs": [
    {
     "name": "stdout",
     "output_type": "stream",
     "text": [
      "tensor(0.)\n"
     ]
    }
   ],
   "source": [
    "data,targets = next(iter(train_loader))\n",
    "data2,targets2 = next(iter(train2_loader))\n",
    "\n",
    "print((data-data2).max())"
   ]
  },
  {
   "cell_type": "markdown",
   "id": "dad364f5",
   "metadata": {},
   "source": [
    "# 2. Design a SNN architecture"
   ]
  },
  {
   "cell_type": "code",
   "execution_count": 3,
   "id": "bf7f4356",
   "metadata": {},
   "outputs": [],
   "source": [
    "# Define the hyperparameters\n",
    "num_steps = 2\n",
    "n_first_hidden = 40\n",
    "num_binary_layers = 10\n",
    "n_hidden = 30\n",
    "\n",
    "seed = np.random.randint(100) # later set a seed to fix the initialization\n",
    "# seed = 30\n",
    "# torch.manual_seed(seed)\n",
    "# torch.cuda.manual_seed(seed)\n"
   ]
  },
  {
   "cell_type": "code",
   "execution_count": 4,
   "id": "fb36da4f",
   "metadata": {},
   "outputs": [
    {
     "name": "stdout",
     "output_type": "stream",
     "text": [
      "SNN(\n",
      "  (net): Sequential(\n",
      "    (0): Linear(in_features=784, out_features=40, bias=True)\n",
      "    (1): Leaky()\n",
      "    (2): Linear(in_features=40, out_features=30, bias=True)\n",
      "    (3): Leaky()\n",
      "    (4): Linear(in_features=30, out_features=30, bias=True)\n",
      "    (5): Leaky()\n",
      "    (6): Linear(in_features=30, out_features=30, bias=True)\n",
      "    (7): Leaky()\n",
      "    (8): Linear(in_features=30, out_features=30, bias=True)\n",
      "    (9): Leaky()\n",
      "    (10): Linear(in_features=30, out_features=30, bias=True)\n",
      "    (11): Leaky()\n",
      "    (12): Linear(in_features=30, out_features=30, bias=True)\n",
      "    (13): Leaky()\n",
      "    (14): Linear(in_features=30, out_features=30, bias=True)\n",
      "    (15): Leaky()\n",
      "    (16): Linear(in_features=30, out_features=30, bias=True)\n",
      "    (17): Leaky()\n",
      "    (18): Linear(in_features=30, out_features=10, bias=True)\n",
      "    (19): Leaky()\n",
      "  )\n",
      ")\n"
     ]
    }
   ],
   "source": [
    "net = models.SNN(num_steps=num_steps, n_first_hidden=n_first_hidden, num_binary_layers = num_binary_layers, n_hidden = n_hidden).to(device)\n",
    "print(net)"
   ]
  },
  {
   "cell_type": "markdown",
   "id": "3a92bb7d",
   "metadata": {},
   "source": [
    "# 3. Train/ Load networks and save results"
   ]
  },
  {
   "cell_type": "code",
   "execution_count": 10,
   "id": "4ad354c7",
   "metadata": {
    "scrolled": true
   },
   "outputs": [
    {
     "name": "stderr",
     "output_type": "stream",
     "text": [
      "\r",
      "  0%|          | 0/40 [00:00<?, ?it/s]"
     ]
    },
    {
     "name": "stdout",
     "output_type": "stream",
     "text": [
      "---------- Training epoch 0 ------------\n",
      "Iteration 0 --- Train Loss: 1.04 --- Minibatch accuracy: 83.98%\n",
      "Norm of the first weight matrix 0.014641099609434605\n",
      "Iteration 50 --- Train Loss: 1.05 --- Minibatch accuracy: 85.94%\n",
      "Norm of the first weight matrix 0.020710241049528122\n",
      "Iteration 100 --- Train Loss: 1.04 --- Minibatch accuracy: 87.50%\n",
      "Norm of the first weight matrix 0.04324905201792717\n",
      "Iteration 150 --- Train Loss: 1.03 --- Minibatch accuracy: 86.72%\n",
      "Norm of the first weight matrix 0.1540776491165161\n",
      "Iteration 200 --- Train Loss: 1.02 --- Minibatch accuracy: 83.98%\n",
      "Norm of the first weight matrix 0.02071787603199482\n"
     ]
    },
    {
     "name": "stderr",
     "output_type": "stream",
     "text": [
      "\r",
      "  2%|▎         | 1/40 [00:18<12:02, 18.51s/it]"
     ]
    },
    {
     "name": "stdout",
     "output_type": "stream",
     "text": [
      "---------- Training epoch 1 ------------\n",
      "Iteration 0 --- Train Loss: 1.07 --- Minibatch accuracy: 83.98%\n",
      "Norm of the first weight matrix 0.08846642822027206\n",
      "Iteration 50 --- Train Loss: 1.01 --- Minibatch accuracy: 86.33%\n",
      "Norm of the first weight matrix 0.008252494968473911\n",
      "Iteration 100 --- Train Loss: 1.08 --- Minibatch accuracy: 82.81%\n",
      "Norm of the first weight matrix 0.02117612585425377\n",
      "Iteration 150 --- Train Loss: 1.10 --- Minibatch accuracy: 81.25%\n",
      "Norm of the first weight matrix 0.051393717527389526\n",
      "Iteration 200 --- Train Loss: 1.03 --- Minibatch accuracy: 83.98%\n",
      "Norm of the first weight matrix 0.07874686270952225\n"
     ]
    },
    {
     "name": "stderr",
     "output_type": "stream",
     "text": [
      "\r",
      "  5%|▌         | 2/40 [00:37<11:55, 18.84s/it]"
     ]
    },
    {
     "name": "stdout",
     "output_type": "stream",
     "text": [
      "---------- Training epoch 2 ------------\n",
      "Iteration 0 --- Train Loss: 1.11 --- Minibatch accuracy: 81.25%\n",
      "Norm of the first weight matrix 0.1786823272705078\n",
      "Iteration 50 --- Train Loss: 1.04 --- Minibatch accuracy: 85.94%\n",
      "Norm of the first weight matrix 0.0379965715110302\n",
      "Iteration 100 --- Train Loss: 1.06 --- Minibatch accuracy: 82.42%\n",
      "Norm of the first weight matrix 1.0393694639205933\n",
      "Iteration 150 --- Train Loss: 1.04 --- Minibatch accuracy: 85.55%\n",
      "Norm of the first weight matrix 0.008672301657497883\n",
      "Iteration 200 --- Train Loss: 1.02 --- Minibatch accuracy: 86.72%\n",
      "Norm of the first weight matrix 0.02379506267607212\n"
     ]
    },
    {
     "name": "stderr",
     "output_type": "stream",
     "text": [
      "\r",
      "  8%|▊         | 3/40 [00:56<11:32, 18.71s/it]"
     ]
    },
    {
     "name": "stdout",
     "output_type": "stream",
     "text": [
      "---------- Training epoch 3 ------------\n",
      "Iteration 0 --- Train Loss: 0.99 --- Minibatch accuracy: 84.38%\n",
      "Norm of the first weight matrix 0.016855690628290176\n",
      "Iteration 50 --- Train Loss: 0.98 --- Minibatch accuracy: 89.84%\n",
      "Norm of the first weight matrix 0.0020205944310873747\n",
      "Iteration 100 --- Train Loss: 1.00 --- Minibatch accuracy: 85.94%\n",
      "Norm of the first weight matrix 0.0023686212953180075\n",
      "Iteration 150 --- Train Loss: 1.07 --- Minibatch accuracy: 81.64%\n",
      "Norm of the first weight matrix 0.008691688999533653\n",
      "Iteration 200 --- Train Loss: 0.99 --- Minibatch accuracy: 87.89%\n",
      "Norm of the first weight matrix 0.3788887858390808\n"
     ]
    },
    {
     "name": "stderr",
     "output_type": "stream",
     "text": [
      "\r",
      " 10%|█         | 4/40 [01:15<11:16, 18.79s/it]"
     ]
    },
    {
     "name": "stdout",
     "output_type": "stream",
     "text": [
      "---------- Training epoch 4 ------------\n",
      "Iteration 0 --- Train Loss: 0.96 --- Minibatch accuracy: 87.50%\n",
      "Norm of the first weight matrix 0.0029138359241187572\n",
      "Iteration 50 --- Train Loss: 1.02 --- Minibatch accuracy: 85.16%\n",
      "Norm of the first weight matrix 0.07994679361581802\n",
      "Iteration 100 --- Train Loss: 1.02 --- Minibatch accuracy: 86.33%\n",
      "Norm of the first weight matrix 0.014289438724517822\n",
      "Iteration 150 --- Train Loss: 1.06 --- Minibatch accuracy: 82.42%\n",
      "Norm of the first weight matrix 0.23909811675548553\n",
      "Iteration 200 --- Train Loss: 1.07 --- Minibatch accuracy: 87.11%\n",
      "Norm of the first weight matrix 0.023479441180825233\n"
     ]
    },
    {
     "name": "stderr",
     "output_type": "stream",
     "text": [
      "\r",
      " 12%|█▎        | 5/40 [01:33<10:59, 18.84s/it]"
     ]
    },
    {
     "name": "stdout",
     "output_type": "stream",
     "text": [
      "---------- Training epoch 5 ------------\n",
      "Iteration 0 --- Train Loss: 1.03 --- Minibatch accuracy: 87.50%\n",
      "Norm of the first weight matrix 0.0519758015871048\n",
      "Iteration 50 --- Train Loss: 1.08 --- Minibatch accuracy: 85.55%\n",
      "Norm of the first weight matrix 0.010082049295306206\n",
      "Iteration 100 --- Train Loss: 1.05 --- Minibatch accuracy: 85.55%\n",
      "Norm of the first weight matrix 0.062157437205314636\n",
      "Iteration 150 --- Train Loss: 1.06 --- Minibatch accuracy: 83.20%\n",
      "Norm of the first weight matrix 0.02378673106431961\n",
      "Iteration 200 --- Train Loss: 1.00 --- Minibatch accuracy: 87.50%\n",
      "Norm of the first weight matrix 0.01571720838546753\n"
     ]
    },
    {
     "name": "stderr",
     "output_type": "stream",
     "text": [
      "\r",
      " 15%|█▌        | 6/40 [01:52<10:35, 18.70s/it]"
     ]
    },
    {
     "name": "stdout",
     "output_type": "stream",
     "text": [
      "---------- Training epoch 6 ------------\n",
      "Iteration 0 --- Train Loss: 1.07 --- Minibatch accuracy: 83.59%\n",
      "Norm of the first weight matrix 0.023653391748666763\n",
      "Iteration 50 --- Train Loss: 1.03 --- Minibatch accuracy: 85.16%\n",
      "Norm of the first weight matrix 0.020639756694436073\n",
      "Iteration 100 --- Train Loss: 0.99 --- Minibatch accuracy: 86.33%\n",
      "Norm of the first weight matrix 0.030408818274736404\n",
      "Iteration 150 --- Train Loss: 1.00 --- Minibatch accuracy: 85.94%\n",
      "Norm of the first weight matrix 0.006053858436644077\n",
      "Iteration 200 --- Train Loss: 1.06 --- Minibatch accuracy: 84.77%\n",
      "Norm of the first weight matrix 0.010987978428602219\n"
     ]
    },
    {
     "name": "stderr",
     "output_type": "stream",
     "text": [
      "\r",
      " 18%|█▊        | 7/40 [02:10<10:14, 18.63s/it]"
     ]
    },
    {
     "name": "stdout",
     "output_type": "stream",
     "text": [
      "---------- Training epoch 7 ------------\n",
      "Iteration 0 --- Train Loss: 1.12 --- Minibatch accuracy: 80.08%\n",
      "Norm of the first weight matrix 0.0634966790676117\n",
      "Iteration 50 --- Train Loss: 1.03 --- Minibatch accuracy: 84.77%\n",
      "Norm of the first weight matrix 0.026407407596707344\n",
      "Iteration 100 --- Train Loss: 1.08 --- Minibatch accuracy: 83.59%\n",
      "Norm of the first weight matrix 0.04739738255739212\n",
      "Iteration 150 --- Train Loss: 1.00 --- Minibatch accuracy: 87.11%\n",
      "Norm of the first weight matrix 0.025397786870598793\n",
      "Iteration 200 --- Train Loss: 1.06 --- Minibatch accuracy: 84.77%\n",
      "Norm of the first weight matrix 0.015091447159647942\n"
     ]
    },
    {
     "name": "stderr",
     "output_type": "stream",
     "text": [
      "\r",
      " 20%|██        | 8/40 [02:29<10:00, 18.77s/it]"
     ]
    },
    {
     "name": "stdout",
     "output_type": "stream",
     "text": [
      "---------- Training epoch 8 ------------\n",
      "Iteration 0 --- Train Loss: 0.99 --- Minibatch accuracy: 89.45%\n",
      "Norm of the first weight matrix 0.0071386960335075855\n",
      "Iteration 50 --- Train Loss: 1.01 --- Minibatch accuracy: 88.28%\n",
      "Norm of the first weight matrix 0.062285345047712326\n",
      "Iteration 100 --- Train Loss: 1.03 --- Minibatch accuracy: 85.94%\n",
      "Norm of the first weight matrix 0.030951067805290222\n",
      "Iteration 150 --- Train Loss: 0.96 --- Minibatch accuracy: 91.80%\n",
      "Norm of the first weight matrix 0.03335556760430336\n",
      "Iteration 200 --- Train Loss: 1.02 --- Minibatch accuracy: 88.28%\n",
      "Norm of the first weight matrix 0.025387071073055267\n"
     ]
    },
    {
     "name": "stderr",
     "output_type": "stream",
     "text": [
      "\r",
      " 22%|██▎       | 9/40 [02:48<09:42, 18.79s/it]"
     ]
    },
    {
     "name": "stdout",
     "output_type": "stream",
     "text": [
      "---------- Training epoch 9 ------------\n",
      "Iteration 0 --- Train Loss: 1.05 --- Minibatch accuracy: 84.38%\n",
      "Norm of the first weight matrix 0.06796430796384811\n",
      "Iteration 50 --- Train Loss: 1.01 --- Minibatch accuracy: 89.06%\n",
      "Norm of the first weight matrix 0.006396424025297165\n",
      "Iteration 100 --- Train Loss: 1.02 --- Minibatch accuracy: 89.45%\n",
      "Norm of the first weight matrix 0.01840911991894245\n",
      "Iteration 150 --- Train Loss: 1.00 --- Minibatch accuracy: 89.84%\n",
      "Norm of the first weight matrix 0.059987377375364304\n",
      "Iteration 200 --- Train Loss: 1.08 --- Minibatch accuracy: 87.89%\n",
      "Norm of the first weight matrix 0.022469112649559975\n"
     ]
    },
    {
     "name": "stderr",
     "output_type": "stream",
     "text": [
      "\r",
      " 25%|██▌       | 10/40 [03:08<09:33, 19.12s/it]"
     ]
    },
    {
     "name": "stdout",
     "output_type": "stream",
     "text": [
      "---------- Training epoch 10 ------------\n",
      "Iteration 0 --- Train Loss: 1.03 --- Minibatch accuracy: 89.06%\n",
      "Norm of the first weight matrix 0.05400818958878517\n",
      "Iteration 50 --- Train Loss: 1.02 --- Minibatch accuracy: 90.23%\n",
      "Norm of the first weight matrix 0.008889200165867805\n",
      "Iteration 100 --- Train Loss: 1.05 --- Minibatch accuracy: 87.50%\n",
      "Norm of the first weight matrix 0.021535584703087807\n",
      "Iteration 150 --- Train Loss: 1.04 --- Minibatch accuracy: 87.50%\n",
      "Norm of the first weight matrix 0.01758125238120556\n",
      "Iteration 200 --- Train Loss: 1.02 --- Minibatch accuracy: 89.06%\n",
      "Norm of the first weight matrix 0.027891412377357483\n"
     ]
    },
    {
     "name": "stderr",
     "output_type": "stream",
     "text": [
      "\r",
      " 28%|██▊       | 11/40 [03:29<09:26, 19.52s/it]"
     ]
    },
    {
     "name": "stdout",
     "output_type": "stream",
     "text": [
      "---------- Training epoch 11 ------------\n",
      "Iteration 0 --- Train Loss: 1.02 --- Minibatch accuracy: 89.84%\n",
      "Norm of the first weight matrix 0.056162215769290924\n",
      "Iteration 50 --- Train Loss: 1.03 --- Minibatch accuracy: 85.94%\n",
      "Norm of the first weight matrix 0.08189528435468674\n",
      "Iteration 100 --- Train Loss: 1.04 --- Minibatch accuracy: 83.98%\n",
      "Norm of the first weight matrix 0.1068435087800026\n",
      "Iteration 150 --- Train Loss: 1.02 --- Minibatch accuracy: 85.55%\n",
      "Norm of the first weight matrix 0.035053133964538574\n",
      "Iteration 200 --- Train Loss: 0.97 --- Minibatch accuracy: 90.23%\n",
      "Norm of the first weight matrix 0.016907650977373123\n"
     ]
    },
    {
     "name": "stderr",
     "output_type": "stream",
     "text": [
      "\r",
      " 30%|███       | 12/40 [03:49<09:13, 19.78s/it]"
     ]
    },
    {
     "name": "stdout",
     "output_type": "stream",
     "text": [
      "---------- Training epoch 12 ------------\n",
      "Iteration 0 --- Train Loss: 1.03 --- Minibatch accuracy: 87.11%\n",
      "Norm of the first weight matrix 0.004016888327896595\n",
      "Iteration 50 --- Train Loss: 1.05 --- Minibatch accuracy: 84.38%\n",
      "Norm of the first weight matrix 0.016512377187609673\n",
      "Iteration 100 --- Train Loss: 1.00 --- Minibatch accuracy: 88.67%\n",
      "Norm of the first weight matrix 0.0016736763063818216\n",
      "Iteration 150 --- Train Loss: 1.04 --- Minibatch accuracy: 85.55%\n",
      "Norm of the first weight matrix 0.0018953656544908881\n",
      "Iteration 200 --- Train Loss: 1.02 --- Minibatch accuracy: 91.41%\n",
      "Norm of the first weight matrix 0.04009845852851868\n"
     ]
    },
    {
     "name": "stderr",
     "output_type": "stream",
     "text": [
      "\r",
      " 32%|███▎      | 13/40 [04:10<09:03, 20.13s/it]"
     ]
    },
    {
     "name": "stdout",
     "output_type": "stream",
     "text": [
      "---------- Training epoch 13 ------------\n",
      "Iteration 0 --- Train Loss: 1.03 --- Minibatch accuracy: 89.06%\n",
      "Norm of the first weight matrix 0.002165586454793811\n",
      "Iteration 50 --- Train Loss: 0.95 --- Minibatch accuracy: 91.02%\n",
      "Norm of the first weight matrix 0.009422375820577145\n",
      "Iteration 100 --- Train Loss: 1.00 --- Minibatch accuracy: 90.23%\n",
      "Norm of the first weight matrix 0.004866746719926596\n",
      "Iteration 150 --- Train Loss: 1.03 --- Minibatch accuracy: 87.50%\n",
      "Norm of the first weight matrix 0.24605321884155273\n",
      "Iteration 200 --- Train Loss: 1.00 --- Minibatch accuracy: 89.84%\n",
      "Norm of the first weight matrix 0.014744330197572708\n"
     ]
    },
    {
     "name": "stderr",
     "output_type": "stream",
     "text": [
      "\r",
      " 35%|███▌      | 14/40 [04:31<08:51, 20.43s/it]"
     ]
    },
    {
     "name": "stdout",
     "output_type": "stream",
     "text": [
      "---------- Training epoch 14 ------------\n",
      "Iteration 0 --- Train Loss: 0.97 --- Minibatch accuracy: 91.02%\n",
      "Norm of the first weight matrix 0.004208831116557121\n",
      "Iteration 50 --- Train Loss: 1.03 --- Minibatch accuracy: 86.33%\n",
      "Norm of the first weight matrix 0.020631151273846626\n",
      "Iteration 100 --- Train Loss: 1.05 --- Minibatch accuracy: 86.72%\n",
      "Norm of the first weight matrix 0.01616387628018856\n",
      "Iteration 150 --- Train Loss: 0.99 --- Minibatch accuracy: 91.02%\n",
      "Norm of the first weight matrix 0.10435684025287628\n",
      "Iteration 200 --- Train Loss: 1.04 --- Minibatch accuracy: 87.11%\n",
      "Norm of the first weight matrix 0.015872852876782417\n"
     ]
    },
    {
     "name": "stderr",
     "output_type": "stream",
     "text": [
      "\r",
      " 38%|███▊      | 15/40 [04:52<08:34, 20.58s/it]"
     ]
    },
    {
     "name": "stdout",
     "output_type": "stream",
     "text": [
      "---------- Training epoch 15 ------------\n",
      "Iteration 0 --- Train Loss: 1.04 --- Minibatch accuracy: 87.50%\n",
      "Norm of the first weight matrix 0.03139263391494751\n",
      "Iteration 50 --- Train Loss: 1.03 --- Minibatch accuracy: 87.50%\n",
      "Norm of the first weight matrix 0.1051771268248558\n",
      "Iteration 100 --- Train Loss: 1.03 --- Minibatch accuracy: 90.23%\n",
      "Norm of the first weight matrix 0.0050261314027011395\n",
      "Iteration 150 --- Train Loss: 1.05 --- Minibatch accuracy: 85.55%\n",
      "Norm of the first weight matrix 0.010151287540793419\n",
      "Iteration 200 --- Train Loss: 1.08 --- Minibatch accuracy: 80.86%\n",
      "Norm of the first weight matrix 0.016910625621676445\n"
     ]
    },
    {
     "name": "stderr",
     "output_type": "stream",
     "text": [
      "\r",
      " 40%|████      | 16/40 [05:13<08:16, 20.68s/it]"
     ]
    },
    {
     "name": "stdout",
     "output_type": "stream",
     "text": [
      "---------- Training epoch 16 ------------\n",
      "Iteration 0 --- Train Loss: 1.02 --- Minibatch accuracy: 83.59%\n",
      "Norm of the first weight matrix 0.028008833527565002\n",
      "Iteration 50 --- Train Loss: 1.11 --- Minibatch accuracy: 82.42%\n",
      "Norm of the first weight matrix 0.046140287071466446\n",
      "Iteration 100 --- Train Loss: 1.04 --- Minibatch accuracy: 82.81%\n",
      "Norm of the first weight matrix 0.007584743667393923\n",
      "Iteration 150 --- Train Loss: 1.05 --- Minibatch accuracy: 81.25%\n",
      "Norm of the first weight matrix 0.0068653966300189495\n",
      "Iteration 200 --- Train Loss: 1.04 --- Minibatch accuracy: 89.84%\n",
      "Norm of the first weight matrix 0.029847215861082077\n"
     ]
    },
    {
     "name": "stderr",
     "output_type": "stream",
     "text": [
      "\r",
      " 42%|████▎     | 17/40 [05:33<07:53, 20.60s/it]"
     ]
    },
    {
     "name": "stdout",
     "output_type": "stream",
     "text": [
      "---------- Training epoch 17 ------------\n",
      "Iteration 0 --- Train Loss: 1.04 --- Minibatch accuracy: 84.77%\n",
      "Norm of the first weight matrix 0.2145046442747116\n",
      "Iteration 50 --- Train Loss: 1.13 --- Minibatch accuracy: 82.03%\n",
      "Norm of the first weight matrix 1.040234088897705\n",
      "Iteration 100 --- Train Loss: 1.01 --- Minibatch accuracy: 84.77%\n",
      "Norm of the first weight matrix 0.028854498639702797\n",
      "Iteration 150 --- Train Loss: 1.04 --- Minibatch accuracy: 85.55%\n",
      "Norm of the first weight matrix 0.054751113057136536\n",
      "Iteration 200 --- Train Loss: 1.04 --- Minibatch accuracy: 89.06%\n",
      "Norm of the first weight matrix 0.0924786627292633\n"
     ]
    },
    {
     "name": "stderr",
     "output_type": "stream",
     "text": [
      "\r",
      " 45%|████▌     | 18/40 [05:54<07:32, 20.58s/it]"
     ]
    },
    {
     "name": "stdout",
     "output_type": "stream",
     "text": [
      "---------- Training epoch 18 ------------\n",
      "Iteration 0 --- Train Loss: 1.06 --- Minibatch accuracy: 87.11%\n",
      "Norm of the first weight matrix 0.05044269934296608\n",
      "Iteration 50 --- Train Loss: 1.07 --- Minibatch accuracy: 81.64%\n",
      "Norm of the first weight matrix 0.012762805446982384\n",
      "Iteration 100 --- Train Loss: 1.00 --- Minibatch accuracy: 89.84%\n",
      "Norm of the first weight matrix 0.05900900065898895\n",
      "Iteration 150 --- Train Loss: 1.05 --- Minibatch accuracy: 87.89%\n",
      "Norm of the first weight matrix 0.0010237718233838677\n",
      "Iteration 200 --- Train Loss: 0.99 --- Minibatch accuracy: 87.89%\n",
      "Norm of the first weight matrix 0.010761365294456482\n"
     ]
    },
    {
     "name": "stderr",
     "output_type": "stream",
     "text": [
      "\r",
      " 48%|████▊     | 19/40 [06:15<07:13, 20.66s/it]"
     ]
    },
    {
     "name": "stdout",
     "output_type": "stream",
     "text": [
      "---------- Training epoch 19 ------------\n",
      "Iteration 0 --- Train Loss: 1.03 --- Minibatch accuracy: 85.94%\n",
      "Norm of the first weight matrix 0.013394186273217201\n",
      "Iteration 50 --- Train Loss: 1.02 --- Minibatch accuracy: 85.94%\n",
      "Norm of the first weight matrix 0.037854887545108795\n",
      "Iteration 100 --- Train Loss: 0.99 --- Minibatch accuracy: 90.62%\n",
      "Norm of the first weight matrix 0.062432754784822464\n",
      "Iteration 150 --- Train Loss: 1.02 --- Minibatch accuracy: 86.72%\n",
      "Norm of the first weight matrix 0.02792711928486824\n",
      "Iteration 200 --- Train Loss: 1.01 --- Minibatch accuracy: 87.50%\n",
      "Norm of the first weight matrix 0.0033899161498993635\n"
     ]
    },
    {
     "name": "stderr",
     "output_type": "stream",
     "text": [
      "\r",
      " 50%|█████     | 20/40 [06:36<06:54, 20.73s/it]"
     ]
    },
    {
     "name": "stdout",
     "output_type": "stream",
     "text": [
      "---------- Training epoch 20 ------------\n",
      "Iteration 0 --- Train Loss: 1.12 --- Minibatch accuracy: 83.98%\n",
      "Norm of the first weight matrix 0.01616244576871395\n",
      "Iteration 50 --- Train Loss: 1.08 --- Minibatch accuracy: 83.98%\n",
      "Norm of the first weight matrix 0.0033109341748058796\n",
      "Iteration 100 --- Train Loss: 1.07 --- Minibatch accuracy: 84.77%\n",
      "Norm of the first weight matrix 0.007781556807458401\n",
      "Iteration 150 --- Train Loss: 1.10 --- Minibatch accuracy: 85.16%\n",
      "Norm of the first weight matrix 0.006479059811681509\n",
      "Iteration 200 --- Train Loss: 1.04 --- Minibatch accuracy: 87.50%\n",
      "Norm of the first weight matrix 0.02627253718674183\n"
     ]
    },
    {
     "name": "stderr",
     "output_type": "stream",
     "text": [
      "\r",
      " 52%|█████▎    | 21/40 [06:56<06:34, 20.74s/it]"
     ]
    },
    {
     "name": "stdout",
     "output_type": "stream",
     "text": [
      "---------- Training epoch 21 ------------\n",
      "Iteration 0 --- Train Loss: 1.10 --- Minibatch accuracy: 85.94%\n",
      "Norm of the first weight matrix 0.01781763695180416\n",
      "Iteration 50 --- Train Loss: 1.03 --- Minibatch accuracy: 85.16%\n",
      "Norm of the first weight matrix 0.02437051758170128\n",
      "Iteration 100 --- Train Loss: 1.05 --- Minibatch accuracy: 84.77%\n",
      "Norm of the first weight matrix 0.09364335983991623\n",
      "Iteration 150 --- Train Loss: 1.09 --- Minibatch accuracy: 84.38%\n",
      "Norm of the first weight matrix 0.003550689434632659\n",
      "Iteration 200 --- Train Loss: 1.05 --- Minibatch accuracy: 86.33%\n",
      "Norm of the first weight matrix 0.05647507309913635\n"
     ]
    },
    {
     "name": "stderr",
     "output_type": "stream",
     "text": [
      "\r",
      " 55%|█████▌    | 22/40 [07:18<06:16, 20.91s/it]"
     ]
    },
    {
     "name": "stdout",
     "output_type": "stream",
     "text": [
      "---------- Training epoch 22 ------------\n",
      "Iteration 0 --- Train Loss: 0.98 --- Minibatch accuracy: 87.11%\n",
      "Norm of the first weight matrix 0.011582678183913231\n",
      "Iteration 50 --- Train Loss: 1.02 --- Minibatch accuracy: 87.50%\n",
      "Norm of the first weight matrix 0.03078003227710724\n",
      "Iteration 100 --- Train Loss: 1.05 --- Minibatch accuracy: 87.89%\n",
      "Norm of the first weight matrix 0.008140441961586475\n",
      "Iteration 150 --- Train Loss: 1.05 --- Minibatch accuracy: 83.20%\n",
      "Norm of the first weight matrix 0.013299387879669666\n",
      "Iteration 200 --- Train Loss: 1.01 --- Minibatch accuracy: 87.89%\n",
      "Norm of the first weight matrix 0.004513415042310953\n"
     ]
    },
    {
     "name": "stderr",
     "output_type": "stream",
     "text": [
      "\r",
      " 57%|█████▊    | 23/40 [07:39<05:57, 21.05s/it]"
     ]
    },
    {
     "name": "stdout",
     "output_type": "stream",
     "text": [
      "---------- Training epoch 23 ------------\n",
      "Iteration 0 --- Train Loss: 1.05 --- Minibatch accuracy: 85.94%\n",
      "Norm of the first weight matrix 0.009899141266942024\n",
      "Iteration 50 --- Train Loss: 1.03 --- Minibatch accuracy: 84.38%\n",
      "Norm of the first weight matrix 0.0176645889878273\n",
      "Iteration 100 --- Train Loss: 1.07 --- Minibatch accuracy: 84.38%\n",
      "Norm of the first weight matrix 0.009560784325003624\n",
      "Iteration 150 --- Train Loss: 1.02 --- Minibatch accuracy: 86.33%\n",
      "Norm of the first weight matrix 0.01606718637049198\n",
      "Iteration 200 --- Train Loss: 1.06 --- Minibatch accuracy: 83.98%\n",
      "Norm of the first weight matrix 0.010657713748514652\n"
     ]
    },
    {
     "name": "stderr",
     "output_type": "stream",
     "text": [
      "\r",
      " 60%|██████    | 24/40 [08:00<05:37, 21.08s/it]"
     ]
    },
    {
     "name": "stdout",
     "output_type": "stream",
     "text": [
      "---------- Training epoch 24 ------------\n",
      "Iteration 0 --- Train Loss: 1.09 --- Minibatch accuracy: 82.03%\n",
      "Norm of the first weight matrix 0.008864812552928925\n",
      "Iteration 50 --- Train Loss: 1.07 --- Minibatch accuracy: 82.03%\n",
      "Norm of the first weight matrix 0.05744314193725586\n",
      "Iteration 100 --- Train Loss: 1.03 --- Minibatch accuracy: 88.28%\n",
      "Norm of the first weight matrix 0.05494873970746994\n",
      "Iteration 150 --- Train Loss: 1.11 --- Minibatch accuracy: 79.30%\n",
      "Norm of the first weight matrix 0.00715937465429306\n",
      "Iteration 200 --- Train Loss: 1.04 --- Minibatch accuracy: 84.38%\n",
      "Norm of the first weight matrix 0.1330452561378479\n"
     ]
    },
    {
     "name": "stderr",
     "output_type": "stream",
     "text": [
      "\r",
      " 62%|██████▎   | 25/40 [08:21<05:16, 21.07s/it]"
     ]
    },
    {
     "name": "stdout",
     "output_type": "stream",
     "text": [
      "---------- Training epoch 25 ------------\n",
      "Iteration 0 --- Train Loss: 0.98 --- Minibatch accuracy: 88.28%\n",
      "Norm of the first weight matrix 0.004890189040452242\n",
      "Iteration 50 --- Train Loss: 1.08 --- Minibatch accuracy: 82.81%\n",
      "Norm of the first weight matrix 0.046789348125457764\n",
      "Iteration 100 --- Train Loss: 1.04 --- Minibatch accuracy: 85.94%\n",
      "Norm of the first weight matrix 0.0353265181183815\n",
      "Iteration 150 --- Train Loss: 1.02 --- Minibatch accuracy: 87.89%\n",
      "Norm of the first weight matrix 0.0032373378053307533\n",
      "Iteration 200 --- Train Loss: 1.09 --- Minibatch accuracy: 83.59%\n",
      "Norm of the first weight matrix 0.008787897415459156\n"
     ]
    },
    {
     "name": "stderr",
     "output_type": "stream",
     "text": [
      "\r",
      " 65%|██████▌   | 26/40 [08:42<04:53, 20.95s/it]"
     ]
    },
    {
     "name": "stdout",
     "output_type": "stream",
     "text": [
      "---------- Training epoch 26 ------------\n",
      "Iteration 0 --- Train Loss: 1.07 --- Minibatch accuracy: 82.81%\n",
      "Norm of the first weight matrix 0.02603618986904621\n",
      "Iteration 50 --- Train Loss: 0.98 --- Minibatch accuracy: 85.55%\n",
      "Norm of the first weight matrix 0.016405662521719933\n",
      "Iteration 100 --- Train Loss: 1.02 --- Minibatch accuracy: 85.55%\n",
      "Norm of the first weight matrix 0.004387294873595238\n",
      "Iteration 150 --- Train Loss: 1.00 --- Minibatch accuracy: 87.89%\n",
      "Norm of the first weight matrix 0.006938582751899958\n",
      "Iteration 200 --- Train Loss: 1.00 --- Minibatch accuracy: 87.89%\n",
      "Norm of the first weight matrix 0.09293095022439957\n"
     ]
    },
    {
     "name": "stderr",
     "output_type": "stream",
     "text": [
      "\r",
      " 68%|██████▊   | 27/40 [09:03<04:34, 21.14s/it]"
     ]
    },
    {
     "name": "stdout",
     "output_type": "stream",
     "text": [
      "---------- Training epoch 27 ------------\n",
      "Iteration 0 --- Train Loss: 1.03 --- Minibatch accuracy: 87.11%\n",
      "Norm of the first weight matrix 0.044076282531023026\n",
      "Iteration 50 --- Train Loss: 1.01 --- Minibatch accuracy: 85.94%\n",
      "Norm of the first weight matrix 0.008183023892343044\n",
      "Iteration 100 --- Train Loss: 1.02 --- Minibatch accuracy: 86.33%\n",
      "Norm of the first weight matrix 0.007733259350061417\n",
      "Iteration 150 --- Train Loss: 1.06 --- Minibatch accuracy: 85.16%\n",
      "Norm of the first weight matrix 0.003709405893459916\n",
      "Iteration 200 --- Train Loss: 1.00 --- Minibatch accuracy: 85.16%\n",
      "Norm of the first weight matrix 0.07368259131908417\n"
     ]
    },
    {
     "name": "stderr",
     "output_type": "stream",
     "text": [
      "\r",
      " 70%|███████   | 28/40 [09:25<04:13, 21.14s/it]"
     ]
    },
    {
     "name": "stdout",
     "output_type": "stream",
     "text": [
      "---------- Training epoch 28 ------------\n",
      "Iteration 0 --- Train Loss: 1.03 --- Minibatch accuracy: 86.33%\n",
      "Norm of the first weight matrix 0.05494300276041031\n",
      "Iteration 50 --- Train Loss: 1.01 --- Minibatch accuracy: 89.84%\n",
      "Norm of the first weight matrix 0.0335611067712307\n",
      "Iteration 100 --- Train Loss: 1.05 --- Minibatch accuracy: 86.33%\n",
      "Norm of the first weight matrix 0.021782714873552322\n",
      "Iteration 150 --- Train Loss: 1.10 --- Minibatch accuracy: 84.38%\n",
      "Norm of the first weight matrix 0.05336063355207443\n",
      "Iteration 200 --- Train Loss: 1.17 --- Minibatch accuracy: 80.86%\n",
      "Norm of the first weight matrix 0.15910638868808746\n"
     ]
    },
    {
     "name": "stderr",
     "output_type": "stream",
     "text": [
      "\r",
      " 72%|███████▎  | 29/40 [09:46<03:52, 21.11s/it]"
     ]
    },
    {
     "name": "stdout",
     "output_type": "stream",
     "text": [
      "---------- Training epoch 29 ------------\n",
      "Iteration 0 --- Train Loss: 0.97 --- Minibatch accuracy: 87.50%\n",
      "Norm of the first weight matrix 0.014782536774873734\n",
      "Iteration 50 --- Train Loss: 1.17 --- Minibatch accuracy: 81.64%\n",
      "Norm of the first weight matrix 0.10849401354789734\n",
      "Iteration 100 --- Train Loss: 1.09 --- Minibatch accuracy: 83.98%\n",
      "Norm of the first weight matrix 0.029955510050058365\n",
      "Iteration 150 --- Train Loss: 1.00 --- Minibatch accuracy: 84.77%\n",
      "Norm of the first weight matrix 0.037972141057252884\n",
      "Iteration 200 --- Train Loss: 1.05 --- Minibatch accuracy: 84.38%\n",
      "Norm of the first weight matrix 0.07155583053827286\n"
     ]
    },
    {
     "name": "stderr",
     "output_type": "stream",
     "text": [
      "\r",
      " 75%|███████▌  | 30/40 [10:06<03:28, 20.82s/it]"
     ]
    },
    {
     "name": "stdout",
     "output_type": "stream",
     "text": [
      "---------- Training epoch 30 ------------\n",
      "Iteration 0 --- Train Loss: 1.07 --- Minibatch accuracy: 82.03%\n",
      "Norm of the first weight matrix 0.006813744083046913\n",
      "Iteration 50 --- Train Loss: 1.01 --- Minibatch accuracy: 85.94%\n",
      "Norm of the first weight matrix 0.052119504660367966\n",
      "Iteration 100 --- Train Loss: 1.05 --- Minibatch accuracy: 86.33%\n",
      "Norm of the first weight matrix 0.006701045203953981\n",
      "Iteration 150 --- Train Loss: 1.01 --- Minibatch accuracy: 90.23%\n",
      "Norm of the first weight matrix 0.009101894684135914\n",
      "Iteration 200 --- Train Loss: 1.05 --- Minibatch accuracy: 86.72%\n",
      "Norm of the first weight matrix 0.009796111844480038\n"
     ]
    },
    {
     "name": "stderr",
     "output_type": "stream",
     "text": [
      "\r",
      " 78%|███████▊  | 31/40 [10:27<03:07, 20.87s/it]"
     ]
    },
    {
     "name": "stdout",
     "output_type": "stream",
     "text": [
      "---------- Training epoch 31 ------------\n",
      "Iteration 0 --- Train Loss: 1.07 --- Minibatch accuracy: 86.33%\n",
      "Norm of the first weight matrix 0.013168114237487316\n",
      "Iteration 50 --- Train Loss: 1.00 --- Minibatch accuracy: 89.06%\n",
      "Norm of the first weight matrix 0.014657600782811642\n",
      "Iteration 100 --- Train Loss: 1.05 --- Minibatch accuracy: 87.11%\n",
      "Norm of the first weight matrix 0.015003811568021774\n",
      "Iteration 150 --- Train Loss: 0.99 --- Minibatch accuracy: 89.06%\n",
      "Norm of the first weight matrix 0.013750363141298294\n",
      "Iteration 200 --- Train Loss: 1.01 --- Minibatch accuracy: 88.67%\n",
      "Norm of the first weight matrix 0.03239826858043671\n"
     ]
    },
    {
     "name": "stderr",
     "output_type": "stream",
     "text": [
      "\r",
      " 80%|████████  | 32/40 [10:48<02:46, 20.87s/it]"
     ]
    },
    {
     "name": "stdout",
     "output_type": "stream",
     "text": [
      "---------- Training epoch 32 ------------\n",
      "Iteration 0 --- Train Loss: 1.02 --- Minibatch accuracy: 89.84%\n",
      "Norm of the first weight matrix 0.009229036048054695\n",
      "Iteration 50 --- Train Loss: 1.09 --- Minibatch accuracy: 85.16%\n",
      "Norm of the first weight matrix 0.11395556479692459\n",
      "Iteration 100 --- Train Loss: 1.05 --- Minibatch accuracy: 87.11%\n",
      "Norm of the first weight matrix 0.05605081096291542\n",
      "Iteration 150 --- Train Loss: 1.03 --- Minibatch accuracy: 88.28%\n",
      "Norm of the first weight matrix 0.007675559259951115\n",
      "Iteration 200 --- Train Loss: 1.03 --- Minibatch accuracy: 86.72%\n",
      "Norm of the first weight matrix 0.011580130085349083\n"
     ]
    },
    {
     "name": "stderr",
     "output_type": "stream",
     "text": [
      "\r",
      " 82%|████████▎ | 33/40 [11:08<02:25, 20.86s/it]"
     ]
    },
    {
     "name": "stdout",
     "output_type": "stream",
     "text": [
      "---------- Training epoch 33 ------------\n",
      "Iteration 0 --- Train Loss: 0.99 --- Minibatch accuracy: 87.50%\n",
      "Norm of the first weight matrix 0.007913339883089066\n",
      "Iteration 50 --- Train Loss: 0.98 --- Minibatch accuracy: 89.06%\n",
      "Norm of the first weight matrix 0.003748673014342785\n",
      "Iteration 100 --- Train Loss: 1.04 --- Minibatch accuracy: 82.81%\n",
      "Norm of the first weight matrix 0.008795186877250671\n",
      "Iteration 150 --- Train Loss: 0.99 --- Minibatch accuracy: 87.11%\n",
      "Norm of the first weight matrix 0.0327814519405365\n",
      "Iteration 200 --- Train Loss: 1.08 --- Minibatch accuracy: 85.55%\n",
      "Norm of the first weight matrix 0.004336717538535595\n"
     ]
    },
    {
     "name": "stderr",
     "output_type": "stream",
     "text": [
      "\r",
      " 85%|████████▌ | 34/40 [11:30<02:05, 20.92s/it]"
     ]
    },
    {
     "name": "stdout",
     "output_type": "stream",
     "text": [
      "---------- Training epoch 34 ------------\n",
      "Iteration 0 --- Train Loss: 0.95 --- Minibatch accuracy: 91.41%\n",
      "Norm of the first weight matrix 0.01584676280617714\n",
      "Iteration 50 --- Train Loss: 1.02 --- Minibatch accuracy: 87.50%\n",
      "Norm of the first weight matrix 0.02456977218389511\n",
      "Iteration 100 --- Train Loss: 1.01 --- Minibatch accuracy: 87.89%\n",
      "Norm of the first weight matrix 0.07860849052667618\n",
      "Iteration 150 --- Train Loss: 1.02 --- Minibatch accuracy: 84.38%\n",
      "Norm of the first weight matrix 0.005151270888745785\n",
      "Iteration 200 --- Train Loss: 1.04 --- Minibatch accuracy: 85.55%\n",
      "Norm of the first weight matrix 0.003264291677623987\n"
     ]
    },
    {
     "name": "stderr",
     "output_type": "stream",
     "text": [
      "\r",
      " 88%|████████▊ | 35/40 [11:50<01:43, 20.72s/it]"
     ]
    },
    {
     "name": "stdout",
     "output_type": "stream",
     "text": [
      "---------- Training epoch 35 ------------\n",
      "Iteration 0 --- Train Loss: 0.97 --- Minibatch accuracy: 90.23%\n",
      "Norm of the first weight matrix 0.015611949376761913\n",
      "Iteration 50 --- Train Loss: 1.04 --- Minibatch accuracy: 88.28%\n",
      "Norm of the first weight matrix 0.00319095840677619\n",
      "Iteration 100 --- Train Loss: 1.01 --- Minibatch accuracy: 87.11%\n",
      "Norm of the first weight matrix 0.01767338626086712\n",
      "Iteration 150 --- Train Loss: 1.03 --- Minibatch accuracy: 87.50%\n",
      "Norm of the first weight matrix 0.046617332845926285\n",
      "Iteration 200 --- Train Loss: 1.00 --- Minibatch accuracy: 88.28%\n",
      "Norm of the first weight matrix 0.01251702755689621\n"
     ]
    },
    {
     "name": "stderr",
     "output_type": "stream",
     "text": [
      "\r",
      " 90%|█████████ | 36/40 [12:11<01:23, 20.78s/it]"
     ]
    },
    {
     "name": "stdout",
     "output_type": "stream",
     "text": [
      "---------- Training epoch 36 ------------\n",
      "Iteration 0 --- Train Loss: 1.02 --- Minibatch accuracy: 87.89%\n",
      "Norm of the first weight matrix 0.017920615151524544\n",
      "Iteration 50 --- Train Loss: 0.99 --- Minibatch accuracy: 89.45%\n",
      "Norm of the first weight matrix 0.005904804449528456\n",
      "Iteration 100 --- Train Loss: 1.02 --- Minibatch accuracy: 86.33%\n",
      "Norm of the first weight matrix 0.0069547309540212154\n",
      "Iteration 150 --- Train Loss: 1.02 --- Minibatch accuracy: 85.16%\n",
      "Norm of the first weight matrix 0.002458658069372177\n",
      "Iteration 200 --- Train Loss: 1.00 --- Minibatch accuracy: 88.67%\n",
      "Norm of the first weight matrix 0.14753958582878113\n"
     ]
    },
    {
     "name": "stderr",
     "output_type": "stream",
     "text": [
      "\r",
      " 92%|█████████▎| 37/40 [12:31<01:02, 20.74s/it]"
     ]
    },
    {
     "name": "stdout",
     "output_type": "stream",
     "text": [
      "---------- Training epoch 37 ------------\n",
      "Iteration 0 --- Train Loss: 1.02 --- Minibatch accuracy: 89.45%\n",
      "Norm of the first weight matrix 0.06286808848381042\n",
      "Iteration 50 --- Train Loss: 1.04 --- Minibatch accuracy: 85.94%\n",
      "Norm of the first weight matrix 0.0546325221657753\n",
      "Iteration 100 --- Train Loss: 1.03 --- Minibatch accuracy: 85.55%\n",
      "Norm of the first weight matrix 0.04289453476667404\n",
      "Iteration 150 --- Train Loss: 1.00 --- Minibatch accuracy: 90.23%\n",
      "Norm of the first weight matrix 0.08995682746171951\n",
      "Iteration 200 --- Train Loss: 0.96 --- Minibatch accuracy: 92.58%\n",
      "Norm of the first weight matrix 0.022552648559212685\n"
     ]
    },
    {
     "name": "stderr",
     "output_type": "stream",
     "text": [
      "\r",
      " 95%|█████████▌| 38/40 [12:53<00:41, 20.87s/it]"
     ]
    },
    {
     "name": "stdout",
     "output_type": "stream",
     "text": [
      "---------- Training epoch 38 ------------\n",
      "Iteration 0 --- Train Loss: 0.99 --- Minibatch accuracy: 90.62%\n",
      "Norm of the first weight matrix 0.08208031952381134\n",
      "Iteration 50 --- Train Loss: 1.06 --- Minibatch accuracy: 81.64%\n",
      "Norm of the first weight matrix 0.0053147259168326855\n",
      "Iteration 100 --- Train Loss: 1.03 --- Minibatch accuracy: 85.94%\n",
      "Norm of the first weight matrix 0.244773268699646\n",
      "Iteration 150 --- Train Loss: 1.00 --- Minibatch accuracy: 87.50%\n",
      "Norm of the first weight matrix 0.23348447680473328\n",
      "Iteration 200 --- Train Loss: 1.07 --- Minibatch accuracy: 85.94%\n",
      "Norm of the first weight matrix 0.00837625190615654\n"
     ]
    },
    {
     "name": "stderr",
     "output_type": "stream",
     "text": [
      "\r",
      " 98%|█████████▊| 39/40 [13:14<00:20, 20.94s/it]"
     ]
    },
    {
     "name": "stdout",
     "output_type": "stream",
     "text": [
      "---------- Training epoch 39 ------------\n",
      "Iteration 0 --- Train Loss: 0.99 --- Minibatch accuracy: 89.45%\n",
      "Norm of the first weight matrix 0.0047187525779008865\n",
      "Iteration 50 --- Train Loss: 1.03 --- Minibatch accuracy: 88.28%\n",
      "Norm of the first weight matrix 0.2182948738336563\n",
      "Iteration 100 --- Train Loss: 1.05 --- Minibatch accuracy: 85.55%\n",
      "Norm of the first weight matrix 0.005137975327670574\n",
      "Iteration 150 --- Train Loss: 1.01 --- Minibatch accuracy: 88.28%\n",
      "Norm of the first weight matrix 0.01987367495894432\n",
      "Iteration 200 --- Train Loss: 1.05 --- Minibatch accuracy: 87.11%\n",
      "Norm of the first weight matrix 0.07323511689901352\n"
     ]
    },
    {
     "name": "stderr",
     "output_type": "stream",
     "text": [
      "100%|██████████| 40/40 [13:35<00:00, 20.38s/it]\n"
     ]
    },
    {
     "name": "stdout",
     "output_type": "stream",
     "text": [
      "Training time is 815 seconds over 40 epochs.\n",
      "-----------------------------------------------------\n",
      "Train loss: 1.01, train accuracy: 87.00 % \n",
      "-----------------------------------------------------\n",
      "-----------------------------------------------------\n",
      "Test loss: 1.03, test accuracy: 86.57 %\n",
      "-----------------------------------------------------\n"
     ]
    },
    {
     "data": {
      "text/plain": [
       "(1.0254594816207885, 0.8657)"
      ]
     },
     "execution_count": 10,
     "metadata": {},
     "output_type": "execute_result"
    }
   ],
   "source": [
    "num_epochs = 40\n",
    "start_time = time.time()\n",
    "train.train_snn_monitor_grad(net, train_loader, test_loader, save_path=None, num_epochs=num_epochs, output='spike', lr=5e-4)\n",
    "train.print_and_save(f\"Training time is {(time.time() - start_time):.0f} seconds over {num_epochs} epochs.\" , file=None)\n",
    "train.print_snn_statistics(net, train_loader, epoch=10, file=None, train=True, output='spike')\n",
    "train.print_snn_statistics(net, test_loader, epoch=10, file=None, train=False, output='spike')"
   ]
  },
  {
   "cell_type": "code",
   "execution_count": null,
   "id": "0e0e812f",
   "metadata": {},
   "outputs": [],
   "source": [
    "#train.plot_learning_curve(train_loss_hist, test_loss_hist)"
   ]
  }
 ],
 "metadata": {
  "kernelspec": {
   "display_name": "Python 3 (ipykernel)",
   "language": "python",
   "name": "python3"
  },
  "language_info": {
   "codemirror_mode": {
    "name": "ipython",
    "version": 3
   },
   "file_extension": ".py",
   "mimetype": "text/x-python",
   "name": "python",
   "nbconvert_exporter": "python",
   "pygments_lexer": "ipython3",
   "version": "3.11.5"
  }
 },
 "nbformat": 4,
 "nbformat_minor": 5
}
