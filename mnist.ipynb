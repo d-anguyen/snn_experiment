{
 "cells": [
  {
   "cell_type": "markdown",
   "id": "1b93ff39",
   "metadata": {},
   "source": [
    "# 1. Set up environments and datasets"
   ]
  },
  {
   "cell_type": "code",
   "execution_count": 1,
   "id": "77b679dd",
   "metadata": {},
   "outputs": [],
   "source": [
    "import snntorch as snn\n",
    "import os\n",
    "import time\n",
    "from snntorch import spikeplot as splt\n",
    "from snntorch import spikegen\n",
    "\n",
    "import torch\n",
    "import torch.nn as nn\n",
    "import numpy as np\n",
    "\n",
    "from torch.utils.data.dataset import Dataset\n",
    "from torch.utils.data import DataLoader\n",
    "from torchvision import datasets, transforms\n",
    "\n",
    "\n",
    "import matplotlib.pyplot as plt\n",
    "\n",
    "import models\n",
    "import train\n",
    "dtype = torch.float\n",
    "device = torch.device(\"cuda\") if torch.cuda.is_available() else torch.device(\"cpu\")"
   ]
  },
  {
   "cell_type": "code",
   "execution_count": 2,
   "id": "6d226eed",
   "metadata": {},
   "outputs": [],
   "source": [
    "# Prepare MNIST datasets\n",
    "data_path='/tmp/data/mnist'\n",
    "batch_size = 256\n",
    "transform = transforms.Compose([\n",
    "            transforms.Resize((28, 28)),\n",
    "            transforms.Grayscale(),\n",
    "            transforms.ToTensor(),\n",
    "            transforms.Normalize((0,), (1,))])\n",
    "\n",
    "mnist_train = datasets.MNIST(data_path, train=True, download=True, transform=transform)\n",
    "mnist_test = datasets.MNIST(data_path, train=False, download=True, transform=transform)\n",
    "\n",
    "train_loader = DataLoader(mnist_train, batch_size=batch_size, shuffle=True)\n",
    "test_loader = DataLoader(mnist_test, batch_size=batch_size, shuffle=True)\n"
   ]
  },
  {
   "cell_type": "markdown",
   "id": "dad364f5",
   "metadata": {},
   "source": [
    "# 2. Design a SNN architecture"
   ]
  },
  {
   "cell_type": "code",
   "execution_count": 3,
   "id": "bf7f4356",
   "metadata": {},
   "outputs": [],
   "source": [
    "# Define the hyperparameters\n",
    "num_steps = 2\n",
    "n_first_hidden = 40\n",
    "num_binary_layers = 4\n",
    "n_hidden = 30\n",
    "\n",
    "seed = np.random.randint(100) # later set a seed to fix the initialization\n",
    "# seed = 30\n",
    "# torch.manual_seed(seed)\n",
    "# torch.cuda.manual_seed(seed)\n",
    "\n",
    "# Create a folder to save results\n",
    "save_path = './mnist_results/'\n",
    "\n",
    "name = '784-' + str(n_first_hidden)\n",
    "for i in range(num_binary_layers-2):\n",
    "    name += '-' +str(n_hidden)\n",
    "name += '-10'\n",
    "save_path+= name+'/'\n",
    "os.makedirs(save_path, exist_ok=True)\n",
    "file = open(save_path+'results.txt','w')\n",
    "print('Network architecture: ' +name+ '\\nNumber of time steps: T=' +str(num_steps), file=file)\n",
    "file.close()"
   ]
  },
  {
   "cell_type": "code",
   "execution_count": 4,
   "id": "fb36da4f",
   "metadata": {},
   "outputs": [
    {
     "name": "stdout",
     "output_type": "stream",
     "text": [
      "SNN(\n",
      "  (net): Sequential(\n",
      "    (0): Linear(in_features=784, out_features=40, bias=True)\n",
      "    (1): Leaky()\n",
      "    (2): Linear(in_features=40, out_features=20, bias=True)\n",
      "    (3): Leaky()\n",
      "    (4): Linear(in_features=20, out_features=20, bias=True)\n",
      "    (5): Leaky()\n",
      "    (6): Linear(in_features=20, out_features=10, bias=True)\n",
      "    (7): Leaky()\n",
      "  )\n",
      ")\n"
     ]
    }
   ],
   "source": [
    "net = models.SNN(num_steps=2, n_first_hidden=n_first_hidden, num_binary_layers = num_binary_layers, n_hidden = 20).to(device)\n",
    "print(net)"
   ]
  },
  {
   "cell_type": "markdown",
   "id": "3a92bb7d",
   "metadata": {},
   "source": [
    "# 3. Train/ Load networks and save results"
   ]
  },
  {
   "cell_type": "code",
   "execution_count": 5,
   "id": "4ad354c7",
   "metadata": {
    "scrolled": true
   },
   "outputs": [
    {
     "name": "stderr",
     "output_type": "stream",
     "text": [
      "\r",
      "  0%|          | 0/20 [00:00<?, ?it/s]"
     ]
    },
    {
     "name": "stdout",
     "output_type": "stream",
     "text": [
      "---------- Training epoch 0 ------------\n",
      "Iteration 0 --- Train Loss: 2.30 --- Minibatch accuracy: 9.77%\n",
      "\n",
      "Iteration 50 --- Train Loss: 2.30 --- Minibatch accuracy: 6.25%\n",
      "\n",
      "Iteration 100 --- Train Loss: 2.26 --- Minibatch accuracy: 20.31%\n",
      "\n",
      "Iteration 150 --- Train Loss: 1.79 --- Minibatch accuracy: 33.59%\n",
      "\n",
      "Iteration 200 --- Train Loss: 1.38 --- Minibatch accuracy: 58.98%\n",
      "\n"
     ]
    },
    {
     "name": "stderr",
     "output_type": "stream",
     "text": [
      "\r",
      "  5%|▌         | 1/20 [00:14<04:37, 14.61s/it]"
     ]
    },
    {
     "name": "stdout",
     "output_type": "stream",
     "text": [
      "---------- Training epoch 1 ------------\n",
      "Iteration 0 --- Train Loss: 1.26 --- Minibatch accuracy: 68.75%\n",
      "\n",
      "Iteration 50 --- Train Loss: 1.12 --- Minibatch accuracy: 80.47%\n",
      "\n",
      "Iteration 100 --- Train Loss: 1.14 --- Minibatch accuracy: 75.78%\n",
      "\n",
      "Iteration 150 --- Train Loss: 1.10 --- Minibatch accuracy: 78.52%\n",
      "\n",
      "Iteration 200 --- Train Loss: 1.08 --- Minibatch accuracy: 77.34%\n",
      "\n"
     ]
    },
    {
     "name": "stderr",
     "output_type": "stream",
     "text": [
      "\r",
      " 10%|█         | 2/20 [00:28<04:19, 14.41s/it]"
     ]
    },
    {
     "name": "stdout",
     "output_type": "stream",
     "text": [
      "---------- Training epoch 2 ------------\n",
      "Iteration 0 --- Train Loss: 1.08 --- Minibatch accuracy: 80.86%\n",
      "\n",
      "Iteration 50 --- Train Loss: 1.01 --- Minibatch accuracy: 82.81%\n",
      "\n",
      "Iteration 100 --- Train Loss: 1.03 --- Minibatch accuracy: 77.73%\n",
      "\n",
      "Iteration 150 --- Train Loss: 1.06 --- Minibatch accuracy: 81.25%\n",
      "\n",
      "Iteration 200 --- Train Loss: 1.03 --- Minibatch accuracy: 83.59%\n",
      "\n"
     ]
    },
    {
     "name": "stderr",
     "output_type": "stream",
     "text": [
      "\r",
      " 15%|█▌        | 3/20 [00:43<04:06, 14.51s/it]"
     ]
    },
    {
     "name": "stdout",
     "output_type": "stream",
     "text": [
      "---------- Training epoch 3 ------------\n",
      "Iteration 0 --- Train Loss: 0.91 --- Minibatch accuracy: 93.36%\n",
      "\n",
      "Iteration 50 --- Train Loss: 0.97 --- Minibatch accuracy: 89.84%\n",
      "\n",
      "Iteration 100 --- Train Loss: 0.93 --- Minibatch accuracy: 92.58%\n",
      "\n",
      "Iteration 150 --- Train Loss: 1.00 --- Minibatch accuracy: 88.67%\n",
      "\n",
      "Iteration 200 --- Train Loss: 0.94 --- Minibatch accuracy: 92.58%\n",
      "\n"
     ]
    },
    {
     "name": "stderr",
     "output_type": "stream",
     "text": [
      "\r",
      " 20%|██        | 4/20 [00:57<03:51, 14.45s/it]"
     ]
    },
    {
     "name": "stdout",
     "output_type": "stream",
     "text": [
      "---------- Training epoch 4 ------------\n",
      "Iteration 0 --- Train Loss: 0.97 --- Minibatch accuracy: 91.41%\n",
      "\n",
      "Iteration 50 --- Train Loss: 0.91 --- Minibatch accuracy: 93.36%\n",
      "\n",
      "Iteration 100 --- Train Loss: 0.91 --- Minibatch accuracy: 92.19%\n",
      "\n",
      "Iteration 150 --- Train Loss: 0.90 --- Minibatch accuracy: 93.75%\n",
      "\n",
      "Iteration 200 --- Train Loss: 0.93 --- Minibatch accuracy: 92.19%\n",
      "\n"
     ]
    },
    {
     "name": "stderr",
     "output_type": "stream",
     "text": [
      "\r",
      " 25%|██▌       | 5/20 [01:12<03:36, 14.42s/it]"
     ]
    },
    {
     "name": "stdout",
     "output_type": "stream",
     "text": [
      "---------- Training epoch 5 ------------\n",
      "Iteration 0 --- Train Loss: 0.94 --- Minibatch accuracy: 91.41%\n",
      "\n",
      "Iteration 50 --- Train Loss: 0.93 --- Minibatch accuracy: 91.80%\n",
      "\n",
      "Iteration 100 --- Train Loss: 0.88 --- Minibatch accuracy: 95.70%\n",
      "\n",
      "Iteration 150 --- Train Loss: 0.92 --- Minibatch accuracy: 92.19%\n",
      "\n",
      "Iteration 200 --- Train Loss: 0.91 --- Minibatch accuracy: 92.19%\n",
      "\n"
     ]
    },
    {
     "name": "stderr",
     "output_type": "stream",
     "text": [
      "\r",
      " 30%|███       | 6/20 [01:26<03:21, 14.42s/it]"
     ]
    },
    {
     "name": "stdout",
     "output_type": "stream",
     "text": [
      "---------- Training epoch 6 ------------\n",
      "Iteration 0 --- Train Loss: 0.88 --- Minibatch accuracy: 94.14%\n",
      "\n",
      "Iteration 50 --- Train Loss: 0.91 --- Minibatch accuracy: 93.75%\n",
      "\n",
      "Iteration 100 --- Train Loss: 0.94 --- Minibatch accuracy: 91.80%\n",
      "\n",
      "Iteration 150 --- Train Loss: 0.89 --- Minibatch accuracy: 93.75%\n",
      "\n",
      "Iteration 200 --- Train Loss: 0.93 --- Minibatch accuracy: 92.58%\n",
      "\n"
     ]
    },
    {
     "name": "stderr",
     "output_type": "stream",
     "text": [
      "\r",
      " 35%|███▌      | 7/20 [01:41<03:07, 14.42s/it]"
     ]
    },
    {
     "name": "stdout",
     "output_type": "stream",
     "text": [
      "---------- Training epoch 7 ------------\n",
      "Iteration 0 --- Train Loss: 0.91 --- Minibatch accuracy: 92.19%\n",
      "\n",
      "Iteration 50 --- Train Loss: 0.85 --- Minibatch accuracy: 96.48%\n",
      "\n",
      "Iteration 100 --- Train Loss: 0.90 --- Minibatch accuracy: 94.14%\n",
      "\n",
      "Iteration 150 --- Train Loss: 0.89 --- Minibatch accuracy: 94.92%\n",
      "\n",
      "Iteration 200 --- Train Loss: 0.87 --- Minibatch accuracy: 94.92%\n",
      "\n"
     ]
    },
    {
     "name": "stderr",
     "output_type": "stream",
     "text": [
      "\r",
      " 40%|████      | 8/20 [01:55<02:53, 14.44s/it]"
     ]
    },
    {
     "name": "stdout",
     "output_type": "stream",
     "text": [
      "---------- Training epoch 8 ------------\n",
      "Iteration 0 --- Train Loss: 0.91 --- Minibatch accuracy: 95.31%\n",
      "\n",
      "Iteration 50 --- Train Loss: 0.89 --- Minibatch accuracy: 93.36%\n",
      "\n",
      "Iteration 100 --- Train Loss: 0.88 --- Minibatch accuracy: 94.53%\n",
      "\n",
      "Iteration 150 --- Train Loss: 0.88 --- Minibatch accuracy: 96.09%\n",
      "\n",
      "Iteration 200 --- Train Loss: 0.89 --- Minibatch accuracy: 94.92%\n",
      "\n"
     ]
    },
    {
     "name": "stderr",
     "output_type": "stream",
     "text": [
      "\r",
      " 45%|████▌     | 9/20 [02:09<02:38, 14.43s/it]"
     ]
    },
    {
     "name": "stdout",
     "output_type": "stream",
     "text": [
      "---------- Training epoch 9 ------------\n",
      "Iteration 0 --- Train Loss: 0.86 --- Minibatch accuracy: 96.88%\n",
      "\n",
      "Iteration 50 --- Train Loss: 0.92 --- Minibatch accuracy: 92.58%\n",
      "\n",
      "Iteration 100 --- Train Loss: 0.89 --- Minibatch accuracy: 94.14%\n",
      "\n",
      "Iteration 150 --- Train Loss: 0.91 --- Minibatch accuracy: 93.36%\n",
      "\n",
      "Iteration 200 --- Train Loss: 0.91 --- Minibatch accuracy: 92.58%\n",
      "\n"
     ]
    },
    {
     "name": "stderr",
     "output_type": "stream",
     "text": [
      "\r",
      " 50%|█████     | 10/20 [02:24<02:23, 14.40s/it]"
     ]
    },
    {
     "name": "stdout",
     "output_type": "stream",
     "text": [
      "---------- Training epoch 10 ------------\n",
      "Iteration 0 --- Train Loss: 0.87 --- Minibatch accuracy: 96.09%\n",
      "\n",
      "Iteration 50 --- Train Loss: 0.90 --- Minibatch accuracy: 92.97%\n",
      "\n",
      "Iteration 100 --- Train Loss: 0.85 --- Minibatch accuracy: 96.88%\n",
      "\n",
      "Iteration 150 --- Train Loss: 0.85 --- Minibatch accuracy: 96.09%\n",
      "\n",
      "Iteration 200 --- Train Loss: 0.88 --- Minibatch accuracy: 95.31%\n",
      "\n"
     ]
    },
    {
     "name": "stderr",
     "output_type": "stream",
     "text": [
      "\r",
      " 55%|█████▌    | 11/20 [02:39<02:10, 14.51s/it]"
     ]
    },
    {
     "name": "stdout",
     "output_type": "stream",
     "text": [
      "---------- Training epoch 11 ------------\n",
      "Iteration 0 --- Train Loss: 0.90 --- Minibatch accuracy: 94.53%\n",
      "\n",
      "Iteration 50 --- Train Loss: 0.85 --- Minibatch accuracy: 96.48%\n",
      "\n",
      "Iteration 100 --- Train Loss: 0.91 --- Minibatch accuracy: 92.19%\n",
      "\n",
      "Iteration 150 --- Train Loss: 0.88 --- Minibatch accuracy: 94.92%\n",
      "\n",
      "Iteration 200 --- Train Loss: 0.89 --- Minibatch accuracy: 93.75%\n",
      "\n"
     ]
    },
    {
     "name": "stderr",
     "output_type": "stream",
     "text": [
      "\r",
      " 60%|██████    | 12/20 [02:54<01:58, 14.85s/it]"
     ]
    },
    {
     "name": "stdout",
     "output_type": "stream",
     "text": [
      "---------- Training epoch 12 ------------\n",
      "Iteration 0 --- Train Loss: 0.88 --- Minibatch accuracy: 94.92%\n",
      "\n",
      "Iteration 50 --- Train Loss: 0.89 --- Minibatch accuracy: 94.14%\n",
      "\n",
      "Iteration 100 --- Train Loss: 0.90 --- Minibatch accuracy: 94.92%\n",
      "\n",
      "Iteration 150 --- Train Loss: 0.88 --- Minibatch accuracy: 95.70%\n",
      "\n",
      "Iteration 200 --- Train Loss: 0.88 --- Minibatch accuracy: 95.31%\n",
      "\n"
     ]
    },
    {
     "name": "stderr",
     "output_type": "stream",
     "text": [
      "\r",
      " 65%|██████▌   | 13/20 [03:13<01:53, 16.16s/it]"
     ]
    },
    {
     "name": "stdout",
     "output_type": "stream",
     "text": [
      "---------- Training epoch 13 ------------\n",
      "Iteration 0 --- Train Loss: 0.91 --- Minibatch accuracy: 92.97%\n",
      "\n",
      "Iteration 50 --- Train Loss: 0.89 --- Minibatch accuracy: 94.92%\n",
      "\n",
      "Iteration 100 --- Train Loss: 0.89 --- Minibatch accuracy: 94.92%\n",
      "\n",
      "Iteration 150 --- Train Loss: 0.89 --- Minibatch accuracy: 94.92%\n",
      "\n",
      "Iteration 200 --- Train Loss: 0.87 --- Minibatch accuracy: 96.09%\n",
      "\n"
     ]
    },
    {
     "name": "stderr",
     "output_type": "stream",
     "text": [
      "\r",
      " 70%|███████   | 14/20 [03:29<01:35, 16.00s/it]"
     ]
    },
    {
     "name": "stdout",
     "output_type": "stream",
     "text": [
      "---------- Training epoch 14 ------------\n",
      "Iteration 0 --- Train Loss: 0.86 --- Minibatch accuracy: 96.88%\n",
      "\n",
      "Iteration 50 --- Train Loss: 0.86 --- Minibatch accuracy: 96.09%\n",
      "\n",
      "Iteration 100 --- Train Loss: 0.90 --- Minibatch accuracy: 94.14%\n",
      "\n",
      "Iteration 150 --- Train Loss: 0.86 --- Minibatch accuracy: 96.09%\n",
      "\n",
      "Iteration 200 --- Train Loss: 0.89 --- Minibatch accuracy: 94.92%\n",
      "\n"
     ]
    },
    {
     "name": "stderr",
     "output_type": "stream",
     "text": [
      "\r",
      " 75%|███████▌  | 15/20 [03:45<01:19, 15.88s/it]"
     ]
    },
    {
     "name": "stdout",
     "output_type": "stream",
     "text": [
      "---------- Training epoch 15 ------------\n",
      "Iteration 0 --- Train Loss: 0.88 --- Minibatch accuracy: 94.53%\n",
      "\n",
      "Iteration 50 --- Train Loss: 0.88 --- Minibatch accuracy: 96.09%\n",
      "\n",
      "Iteration 100 --- Train Loss: 0.88 --- Minibatch accuracy: 94.53%\n",
      "\n",
      "Iteration 150 --- Train Loss: 0.88 --- Minibatch accuracy: 94.53%\n",
      "\n",
      "Iteration 200 --- Train Loss: 0.87 --- Minibatch accuracy: 95.70%\n",
      "\n"
     ]
    },
    {
     "name": "stderr",
     "output_type": "stream",
     "text": [
      "\r",
      " 80%|████████  | 16/20 [04:00<01:02, 15.64s/it]"
     ]
    },
    {
     "name": "stdout",
     "output_type": "stream",
     "text": [
      "---------- Training epoch 16 ------------\n",
      "Iteration 0 --- Train Loss: 0.86 --- Minibatch accuracy: 95.70%\n",
      "\n",
      "Iteration 50 --- Train Loss: 0.87 --- Minibatch accuracy: 96.09%\n",
      "\n",
      "Iteration 100 --- Train Loss: 0.85 --- Minibatch accuracy: 96.09%\n",
      "\n",
      "Iteration 150 --- Train Loss: 0.85 --- Minibatch accuracy: 95.70%\n",
      "\n",
      "Iteration 200 --- Train Loss: 0.85 --- Minibatch accuracy: 96.48%\n",
      "\n"
     ]
    },
    {
     "name": "stderr",
     "output_type": "stream",
     "text": [
      "\r",
      " 85%|████████▌ | 17/20 [04:15<00:46, 15.61s/it]"
     ]
    },
    {
     "name": "stdout",
     "output_type": "stream",
     "text": [
      "---------- Training epoch 17 ------------\n",
      "Iteration 0 --- Train Loss: 0.88 --- Minibatch accuracy: 94.92%\n",
      "\n",
      "Iteration 50 --- Train Loss: 0.90 --- Minibatch accuracy: 94.14%\n",
      "\n",
      "Iteration 100 --- Train Loss: 0.88 --- Minibatch accuracy: 95.31%\n",
      "\n",
      "Iteration 150 --- Train Loss: 0.89 --- Minibatch accuracy: 94.92%\n",
      "\n",
      "Iteration 200 --- Train Loss: 0.88 --- Minibatch accuracy: 95.70%\n",
      "\n"
     ]
    },
    {
     "name": "stderr",
     "output_type": "stream",
     "text": [
      "\r",
      " 90%|█████████ | 18/20 [04:31<00:31, 15.71s/it]"
     ]
    },
    {
     "name": "stdout",
     "output_type": "stream",
     "text": [
      "---------- Training epoch 18 ------------\n",
      "Iteration 0 --- Train Loss: 0.89 --- Minibatch accuracy: 94.92%\n",
      "\n",
      "Iteration 50 --- Train Loss: 0.87 --- Minibatch accuracy: 95.70%\n",
      "\n",
      "Iteration 100 --- Train Loss: 0.86 --- Minibatch accuracy: 96.48%\n",
      "\n",
      "Iteration 150 --- Train Loss: 0.90 --- Minibatch accuracy: 93.75%\n",
      "\n",
      "Iteration 200 --- Train Loss: 0.90 --- Minibatch accuracy: 94.92%\n",
      "\n"
     ]
    },
    {
     "name": "stderr",
     "output_type": "stream",
     "text": [
      "\r",
      " 95%|█████████▌| 19/20 [04:46<00:15, 15.58s/it]"
     ]
    },
    {
     "name": "stdout",
     "output_type": "stream",
     "text": [
      "---------- Training epoch 19 ------------\n",
      "Iteration 0 --- Train Loss: 0.85 --- Minibatch accuracy: 96.88%\n",
      "\n",
      "Iteration 50 --- Train Loss: 0.85 --- Minibatch accuracy: 96.88%\n",
      "\n",
      "Iteration 100 --- Train Loss: 0.86 --- Minibatch accuracy: 96.09%\n",
      "\n",
      "Iteration 150 --- Train Loss: 0.91 --- Minibatch accuracy: 92.97%\n",
      "\n",
      "Iteration 200 --- Train Loss: 0.85 --- Minibatch accuracy: 96.48%\n",
      "\n",
      "####### Statistics over the whole train/test dataset after epoch 19 #######\n",
      "Train loss: 0.87, train accuracy: 95.65 % \n"
     ]
    },
    {
     "name": "stderr",
     "output_type": "stream",
     "text": [
      "100%|██████████| 20/20 [05:17<00:00, 15.88s/it]"
     ]
    },
    {
     "name": "stdout",
     "output_type": "stream",
     "text": [
      "Test loss: 0.90, test accuracy: 93.85 %\n",
      "Training time is approximately 318 seconds over 20 epochs.\n"
     ]
    },
    {
     "name": "stderr",
     "output_type": "stream",
     "text": [
      "\n"
     ]
    }
   ],
   "source": [
    "num_epochs = 20\n",
    "start_time = time.time()\n",
    "train.train_snn(net, train_loader, test_loader, save_path=save_path, num_epochs=num_epochs, output='spike')\n",
    "\n",
    "file = open(save_path+'results.txt','a')\n",
    "train.print_and_save(f\"Training time is approximately {(time.time() - start_time):.0f} seconds over {num_epochs} epochs.\" , file)\n",
    "file.close()"
   ]
  },
  {
   "cell_type": "code",
   "execution_count": 6,
   "id": "0e0e812f",
   "metadata": {},
   "outputs": [],
   "source": [
    "#train.plot_learning_curve(train_loss_hist, test_loss_hist)"
   ]
  },
  {
   "cell_type": "code",
   "execution_count": 7,
   "id": "76bbfdd4",
   "metadata": {},
   "outputs": [],
   "source": [
    "#torch.save(net.state_dict(), save_path+'params.pth')\n"
   ]
  }
 ],
 "metadata": {
  "kernelspec": {
   "display_name": "Python 3 (ipykernel)",
   "language": "python",
   "name": "python3"
  },
  "language_info": {
   "codemirror_mode": {
    "name": "ipython",
    "version": 3
   },
   "file_extension": ".py",
   "mimetype": "text/x-python",
   "name": "python",
   "nbconvert_exporter": "python",
   "pygments_lexer": "ipython3",
   "version": "3.11.5"
  }
 },
 "nbformat": 4,
 "nbformat_minor": 5
}
